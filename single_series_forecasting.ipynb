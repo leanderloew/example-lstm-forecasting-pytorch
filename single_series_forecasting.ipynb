{
 "cells": [
  {
   "cell_type": "markdown",
   "metadata": {},
   "source": [
    "The big benefit of NN based forecasting is the seemles integration of hierachical datastructures and additional variables. However, to start out with this forecasting task we will use a single series and a standard LSTM based network"
   ]
  },
  {
   "cell_type": "code",
   "execution_count": 1,
   "metadata": {
    "collapsed": true
   },
   "outputs": [],
   "source": [
    "import numpy as np \n",
    "import matplotlib.pyplot as plt\n",
    "%matplotlib inline\n",
    "\n",
    "import random\n",
    "from torch.utils.data import Dataset,sampler,DataLoader\n",
    "import torch\n",
    "import torch.nn as nn\n"
   ]
  },
  {
   "cell_type": "code",
   "execution_count": 2,
   "metadata": {
    "collapsed": true
   },
   "outputs": [],
   "source": [
    "init=0.1\n",
    "new=0\n",
    "\n",
    "outlist=[init]\n",
    "for j in range(1,2000):\n",
    "    new=init+0.001*j-0.5*outlist[j-1]+np.random.normal(scale=0.1)\n",
    "    outlist.append(new)"
   ]
  },
  {
   "cell_type": "code",
   "execution_count": 3,
   "metadata": {
    "collapsed": true
   },
   "outputs": [],
   "source": [
    "outlist=outlist[10:]"
   ]
  },
  {
   "cell_type": "code",
   "execution_count": 4,
   "metadata": {},
   "outputs": [
    {
     "data": {
      "text/plain": [
       "[<matplotlib.lines.Line2D at 0x7f6adda1d8d0>]"
      ]
     },
     "execution_count": 4,
     "metadata": {},
     "output_type": "execute_result"
    },
    {
     "data": {
      "image/png": "[encoded data removed]",
      "text/plain": [
       "<Figure size 432x288 with 1 Axes>"
      ]
     },
     "metadata": {},
     "output_type": "display_data"
    }
   ],
   "source": [
    "plt.plot(outlist)"
   ]
  },
  {
   "cell_type": "code",
   "execution_count": 5,
   "metadata": {
    "collapsed": true
   },
   "outputs": [],
   "source": [
    "series = [30,21,29,31,40,48,53,47,37,39,31,29,17,9,20,24,27,35,41,38,\n",
    "          27,31,27,26,21,13,21,18,33,35,40,36,22,24,21,20,17,14,17,19,\n",
    "          26,29,40,31,20,24,18,26,17,9,17,21,28,32,46,33,23,28,22,27,\n",
    "          18,8,17,21,31,34,44,38,31,30,26,32]"
   ]
  },
  {
   "cell_type": "code",
   "execution_count": 6,
   "metadata": {
    "collapsed": true
   },
   "outputs": [],
   "source": [
    "train=series[:50]"
   ]
  },
  {
   "cell_type": "code",
   "execution_count": 7,
   "metadata": {
    "collapsed": true
   },
   "outputs": [],
   "source": [
    "test=series[50:]"
   ]
  },
  {
   "cell_type": "code",
   "execution_count": 8,
   "metadata": {
    "collapsed": true
   },
   "outputs": [],
   "source": [
    "class sequence_labeling_dataset(Dataset):\n",
    "    \n",
    "    def __init__(self, input,max_size=100,sequence_labeling=True,seasonality=12):     \n",
    "        \n",
    "        self.data=input\n",
    "        self.max_size=max_size\n",
    "        self.sequence_labeling=sequence_labeling\n",
    "        self.seasonality=seasonality\n",
    "\n",
    "    def __len__(self):\n",
    "        \n",
    "        return int(len(self.data))\n",
    "    \n",
    "    def __getitem__(self, index):\n",
    "        \n",
    "        data_i=self.data\n",
    "        \n",
    "        if len(data_i)>self.max_size:\n",
    "            max_rand_int=len(data_i)-self.max_size\n",
    "            #take a random start integer\n",
    "            start_int=random.randint(0,max_rand_int)\n",
    "            #return the random chunk of our data \n",
    "            data_i=data_i[start_int:(start_int+self.max_size)]\n",
    "\n",
    "        #should be all but the last as the input \n",
    "        inp=np.array(data_i[:-1])\n",
    "        \n",
    "        #This is Sequence Classification\n",
    "        if self.sequence_labeling==True:\n",
    "            #this is sequence labeling\n",
    "            out=np.array(data_i[1:])\n",
    "        else:\n",
    "            out=np.array(data_i[-1])\n",
    "            \n",
    "        init_shift=start_int\n",
    "\n",
    "        k=int((init_shift-1)/self.seasonality)\n",
    "        shift_steps=self.seasonality+init_shift-self.seasonality*(k+1)\n",
    "        \n",
    "        return inp, out,shift_steps\n",
    "    "
   ]
  },
  {
   "cell_type": "code",
   "execution_count": null,
   "metadata": {
    "collapsed": true
   },
   "outputs": [],
   "source": []
  },
  {
   "cell_type": "code",
   "execution_count": 121,
   "metadata": {
    "collapsed": true
   },
   "outputs": [],
   "source": [
    "sl=sequence_labeling_dataset(train,12,False)\n",
    "train_dl= DataLoader(dataset=sl,\n",
    "                      batch_size=8,\n",
    "                      shuffle=False\n",
    "                      )\n",
    "#We evaluate in sequence classification mode(its the only true forecast )\n",
    "sl_t=sequence_labeling_dataset(test,12,False)\n",
    "test_dl= DataLoader(dataset=sl_t,\n",
    "                      batch_size=1,\n",
    "                      shuffle=False\n",
    "                      )\n"
   ]
  },
  {
   "cell_type": "code",
   "execution_count": 10,
   "metadata": {
    "collapsed": true
   },
   "outputs": [],
   "source": [
    "batch=next(iter(train_dl))"
   ]
  },
  {
   "cell_type": "code",
   "execution_count": 11,
   "metadata": {
    "collapsed": true
   },
   "outputs": [],
   "source": [
    "#This defines how much we have to shift the initial seasonality, given how much we shifted this random batch \n",
    "#this works for per series seasonalities only \n",
    "#Now we need a vecotrized version of shifting array \n",
    "#FUCKING NP ROLL IS  L I T "
   ]
  },
  {
   "cell_type": "code",
   "execution_count": 12,
   "metadata": {
    "collapsed": true
   },
   "outputs": [],
   "source": [
    "class exponential_smoothing(torch.nn.Module):\n",
    "    \n",
    "    def __init__(self,init=0.1):\n",
    "      \n",
    "        super(exponential_smoothing, self).__init__()\n",
    "        self.alpha=torch.nn.Parameter(torch.tensor(init))\n",
    "        self.sig=nn.Sigmoid()\n",
    "    def forward(self, series):\n",
    "        \n",
    "        result = [series[:,0]] # first value is same as series\n",
    "        for n in range(1, series.shape[1]):\n",
    "            result.append(self.sig(self.alpha) * series[:,n] + (1 - self.sig(self.alpha)) * result[n-1])        \n",
    "            \n",
    "        return torch.stack(result,dim=1)\n",
    "    "
   ]
  },
  {
   "cell_type": "code",
   "execution_count": 13,
   "metadata": {
    "collapsed": true
   },
   "outputs": [],
   "source": [
    "#When we do batches we kind of have a weiered issue with learning initial values ! \n",
    "#because the trend shifts. \n"
   ]
  },
  {
   "cell_type": "code",
   "execution_count": 14,
   "metadata": {
    "collapsed": true
   },
   "outputs": [],
   "source": [
    "forecast_steps=5\n",
    "seasonality=7"
   ]
  },
  {
   "cell_type": "code",
   "execution_count": 15,
   "metadata": {
    "collapsed": true
   },
   "outputs": [],
   "source": [
    "k=int((forecast_steps-1)/seasonality)\n",
    "#this is the past step we have to look at to get at correct seasonality step for for\n",
    "#forecasting. \n",
    "past_step=forecast_steps-seasonality*(k+1)\n"
   ]
  },
  {
   "cell_type": "code",
   "execution_count": 16,
   "metadata": {
    "collapsed": true
   },
   "outputs": [],
   "source": [
    "#As we expected, if we randoml shift the input (for shuffeling purposes) We also have to shuft the \n",
    "#initial season appropriately, the quesiton is how exactly: "
   ]
  },
  {
   "cell_type": "code",
   "execution_count": 112,
   "metadata": {
    "collapsed": true
   },
   "outputs": [],
   "source": [
    "class holt_winters(torch.nn.Module):\n",
    "    \n",
    "    def __init__(self,init_a=0.1,init_b=0.1,init_g=0.1,init_t=0.1,slen=12):\n",
    "      \n",
    "        super(holt_winters, self).__init__()\n",
    "        \n",
    "        self.alpha=torch.nn.Parameter(torch.tensor(init_a))\n",
    "        self.beta=torch.nn.Parameter(torch.tensor(init_b))\n",
    "        self.gamma=torch.nn.Parameter(torch.tensor(init))\n",
    "        \n",
    "        #self.alpha=torch.tensor(init_a)\n",
    "        #self.beta=torch.tensor(init_b)\n",
    "        #self.gamma=torch.tensor(init)\n",
    "        \n",
    "        self.init_season=torch.nn.Parameter(torch.tensor(np.random.random(size=slen)))\n",
    "        self.init_trend=torch.nn.Parameter(torch.tensor(init))\n",
    "        self.slen=slen\n",
    "        self.sig=nn.Sigmoid()\n",
    "        \n",
    "    def forward(self,series ,n_preds,series_shifts):\n",
    "        \n",
    "        batch_size=series.shape[0]\n",
    "        init_season_batch=self.init_season.repeat(batch_size).view(batch_size,-1)\n",
    "        seasonals=init_season_batch.float()\n",
    "\n",
    "        #align for different random shifts in the input (later for different series)\n",
    "        seasonals=torch.stack([torch.roll(j,int(rol)) for j,rol in zip(init_season_batch,series_shifts)]).float()\n",
    "\n",
    "        #we can work with lists instead, lets see if that helps :D \n",
    "        seasonals=list(torch.split(seasonals,1,dim=1))\n",
    "        seasonals=[x.squeeze() for x in seasonals]\n",
    "\n",
    "        #we need to put the seasonalities into \n",
    "        result = []\n",
    "\n",
    "        for i in range(series.shape[1]+n_preds):\n",
    "\n",
    "            if i == 0: \n",
    "\n",
    "                smooth = series[:,0]\n",
    "                trend = self.init_trend.repeat(batch_size)\n",
    "\n",
    "                result.append(series[:,0])\n",
    "\n",
    "                continue\n",
    "\n",
    "            #smoothing\n",
    "            if i <series.shape[1]:\n",
    "\n",
    "                val = series[:,i]\n",
    "\n",
    "                last_smooth, smooth = smooth, self.sig(self.alpha)*(val-seasonals[i%self.slen]) + (1-self.sig(self.alpha))*(smooth+trend)\n",
    "\n",
    "                trend = self.sig(self.beta) * (smooth-last_smooth) + (1-self.sig(self.beta))*trend\n",
    "                seasonals[i%self.slen] = self.sig(self.gamma)*(val-smooth) + (1-self.sig(self.gamma))*seasonals[i%self.slen]\n",
    "\n",
    "                result.append(smooth+trend+seasonals[i%self.slen])\n",
    "\n",
    "            else:\n",
    "\n",
    "                m = i - len(series) + 1\n",
    "                result.append((smooth + m*trend) + seasonals[i%self.slen])\n",
    "\n",
    "        return torch.stack(result,dim=1)\n",
    "                "
   ]
  },
  {
   "cell_type": "code",
   "execution_count": 18,
   "metadata": {
    "collapsed": true
   },
   "outputs": [],
   "source": [
    "class self:\n",
    "    pass"
   ]
  },
  {
   "cell_type": "code",
   "execution_count": 19,
   "metadata": {
    "collapsed": true
   },
   "outputs": [],
   "source": [
    "init_a=0.1\n",
    "init_b=0.1\n",
    "init_g=0.1\n",
    "init_t=0.1\n",
    "slen=12"
   ]
  },
  {
   "cell_type": "code",
   "execution_count": 92,
   "metadata": {
    "collapsed": true
   },
   "outputs": [],
   "source": [
    "self.alpha=torch.tensor(init_a)\n",
    "self.beta=torch.tensor(init_b)\n",
    "self.gamma=torch.nn.Parameter(torch.tensor(init))\n",
    "\n",
    "\n",
    "self.init_season=torch.nn.Parameter(torch.tensor(np.random.random(size=slen)))\n",
    "self.init_trend=torch.nn.Parameter(torch.tensor(init))\n",
    "self.slen=slen\n",
    "self.sig=nn.Sigmoid()"
   ]
  },
  {
   "cell_type": "code",
   "execution_count": 93,
   "metadata": {
    "collapsed": true
   },
   "outputs": [],
   "source": [
    "for batch in iter(train_dl):\n",
    "\n",
    "    inp=batch[0].float()#.unsqueeze(2)\n",
    "    out=batch[1].float()#.unsqueeze(2).float()\n",
    "    shifts=batch[2].numpy()\n",
    "    break"
   ]
  },
  {
   "cell_type": "code",
   "execution_count": 94,
   "metadata": {
    "collapsed": true
   },
   "outputs": [],
   "source": [
    "batch_size=series.shape[0]\n",
    "init_season_batch=self.init_season.repeat(batch_size).view(batch_size,-1)\n",
    "seasonals=init_season_batch.float()\n",
    "\n",
    "#align for different random shifts in the input (later for different series)\n",
    "seasonals=torch.stack([torch.roll(j,int(rol)) for j,rol in zip(init_season_batch,series_shifts)]).float()\n",
    "\n",
    "#we can work with lists instead, lets see if that helps :D \n",
    "seasonals=list(torch.split(seasonals,1,dim=1))\n",
    "seasonals=[x.squeeze() for x in seasonals]\n",
    "\n",
    "#we need to put the seasonalities into \n",
    "result = []\n",
    "\n",
    "for i in range(series.shape[1]+n_preds):\n",
    "\n",
    "    if i == 0: \n",
    "\n",
    "        smooth = series[:,0]\n",
    "        trend = self.init_trend.repeat(batch_size)\n",
    "\n",
    "        result.append(series[:,0])\n",
    "\n",
    "        continue\n",
    "\n",
    "    #smoothing\n",
    "    if i <series.shape[1]:\n",
    "\n",
    "        val = series[:,i]\n",
    "        \n",
    "        last_smooth, smooth = smooth, self.sig(self.alpha)*(val-seasonals[i%self.slen]) + (1-self.sig(self.alpha))*(smooth+trend)\n",
    "        \n",
    "        trend = self.sig(self.beta) * (smooth-last_smooth) + (1-self.sig(self.beta))*trend\n",
    "        seasonals[i%self.slen] = self.sig(self.gamma)*(val-smooth) + (1-self.sig(self.gamma))*seasonals[i%self.slen]\n",
    "\n",
    "        result.append(smooth+trend+seasonals[i%self.slen])\n",
    "\n",
    "    else:\n",
    "\n",
    "        m = i - len(series) + 1\n",
    "        result.append((smooth + m*trend) + seasonals[i%self.slen])"
   ]
  },
  {
   "cell_type": "code",
   "execution_count": 108,
   "metadata": {},
   "outputs": [
    {
     "data": {
      "text/plain": [
       "torch.Size([8])"
      ]
     },
     "execution_count": 108,
     "metadata": {},
     "output_type": "execute_result"
    }
   ],
   "source": [
    "result[0].shape"
   ]
  },
  {
   "cell_type": "code",
   "execution_count": 107,
   "metadata": {},
   "outputs": [
    {
     "data": {
      "text/plain": [
       "torch.Size([8])"
      ]
     },
     "execution_count": 107,
     "metadata": {},
     "output_type": "execute_result"
    }
   ],
   "source": [
    "smooth.shape\n"
   ]
  },
  {
   "cell_type": "code",
   "execution_count": 111,
   "metadata": {},
   "outputs": [
    {
     "data": {
      "text/plain": [
       "torch.Size([8, 13])"
      ]
     },
     "execution_count": 111,
     "metadata": {},
     "output_type": "execute_result"
    }
   ],
   "source": [
    "torch.stack(result,dim=1).shape"
   ]
  },
  {
   "cell_type": "code",
   "execution_count": 113,
   "metadata": {
    "collapsed": true
   },
   "outputs": [],
   "source": [
    "hw=holt_winters()"
   ]
  },
  {
   "cell_type": "code",
   "execution_count": 115,
   "metadata": {},
   "outputs": [
    {
     "data": {
      "text/plain": [
       "torch.Size([8, 13])"
      ]
     },
     "execution_count": 115,
     "metadata": {},
     "output_type": "execute_result"
    }
   ],
   "source": [
    "hw(inp,2,shifts)"
   ]
  },
  {
   "cell_type": "code",
   "execution_count": 58,
   "metadata": {
    "collapsed": true
   },
   "outputs": [],
   "source": [
    "preds=torch.stack(result)"
   ]
  },
  {
   "cell_type": "code",
   "execution_count": 59,
   "metadata": {
    "collapsed": true
   },
   "outputs": [],
   "source": [
    "pred=preds.permute(1,0)"
   ]
  },
  {
   "cell_type": "code",
   "execution_count": 60,
   "metadata": {},
   "outputs": [
    {
     "data": {
      "text/plain": [
       "torch.Size([8])"
      ]
     },
     "execution_count": 60,
     "metadata": {},
     "output_type": "execute_result"
    }
   ],
   "source": [
    "out.shape"
   ]
  },
  {
   "cell_type": "code",
   "execution_count": 61,
   "metadata": {
    "collapsed": true
   },
   "outputs": [],
   "source": [
    "loss=torch.mean(torch.abs(pred[:,-1]-out))\n"
   ]
  },
  {
   "cell_type": "code",
   "execution_count": 62,
   "metadata": {
    "collapsed": true
   },
   "outputs": [],
   "source": [
    "loss.backward()"
   ]
  },
  {
   "cell_type": "code",
   "execution_count": null,
   "metadata": {
    "collapsed": true
   },
   "outputs": [],
   "source": []
  },
  {
   "cell_type": "code",
   "execution_count": null,
   "metadata": {
    "collapsed": true
   },
   "outputs": [],
   "source": []
  },
  {
   "cell_type": "code",
   "execution_count": 69,
   "metadata": {
    "collapsed": true
   },
   "outputs": [],
   "source": [
    "hw=holt_winters()"
   ]
  },
  {
   "cell_type": "code",
   "execution_count": 81,
   "metadata": {},
   "outputs": [
    {
     "name": "stderr",
     "output_type": "stream",
     "text": [
      "/home/leander/anaconda3/envs/pytorch/lib/python3.6/site-packages/ipykernel_launcher.py:1: UserWarning: To copy construct from a tensor, it is recommended to use sourceTensor.clone().detach() or sourceTensor.clone().detach().requires_grad_(True), rather than torch.tensor(sourceTensor).\n",
      "  \"\"\"Entry point for launching an IPython kernel.\n"
     ]
    }
   ],
   "source": [
    "tseries=torch.tensor(series).view(1,-1).float()"
   ]
  },
  {
   "cell_type": "code",
   "execution_count": 82,
   "metadata": {
    "collapsed": true
   },
   "outputs": [],
   "source": [
    "pred=hw(tseries,n_preds=2,series_shifts=[0])"
   ]
  },
  {
   "cell_type": "code",
   "execution_count": 83,
   "metadata": {
    "collapsed": true
   },
   "outputs": [],
   "source": [
    "pred=pred.detach().numpy()"
   ]
  },
  {
   "cell_type": "code",
   "execution_count": 411,
   "metadata": {
    "collapsed": true
   },
   "outputs": [],
   "source": [
    "class simple_lstm(torch.nn.Module):\n",
    "    def __init__(self):\n",
    "      \n",
    "        super(simple_lstm, self).__init__()\n",
    "        \n",
    "        self.lstm=nn.LSTM(input_size=1,hidden_size=10)\n",
    "        self.out_dense=nn.Linear(10,1)\n",
    "        self.drop=nn.Dropout(0.2)\n",
    "        self.simple_es=exponential_smoothing(0.1)\n",
    "        \n",
    "    def forward(self, x):\n",
    "        \n",
    "        \n",
    "        #W ewould actually first smooth the input and use it to de level and deseasonalize\n",
    "        #Lets strat with just deleveling \n",
    "        simple_smooth=self.simple_es(x)\n",
    "        \n",
    "        x=x/simple_smooth\n",
    "        \n",
    "        x=self.lstm(x)[0]\n",
    "        #x=x[:,-1]\n",
    "        #x=self.drop(x)\n",
    "        x=self.out_dense(x)\n",
    "\n",
    "        #here we can also Smooth alla holt winters, lets try! (also cool for the demo)\n",
    "        \n",
    "        \n",
    "        return simple_smooth*x#"
   ]
  },
  {
   "cell_type": "code",
   "execution_count": 412,
   "metadata": {
    "collapsed": true
   },
   "outputs": [],
   "source": [
    "sl=simple_lstm()"
   ]
  },
  {
   "cell_type": "code",
   "execution_count": 140,
   "metadata": {
    "collapsed": true
   },
   "outputs": [],
   "source": [
    "sl=holt_winters()"
   ]
  },
  {
   "cell_type": "code",
   "execution_count": 141,
   "metadata": {
    "collapsed": true
   },
   "outputs": [],
   "source": [
    "opti = torch.optim.Adam(sl.parameters(), lr=0.001)#,weight_decay=0.0001"
   ]
  },
  {
   "cell_type": "code",
   "execution_count": 142,
   "metadata": {
    "collapsed": true
   },
   "outputs": [],
   "source": [
    "scheduler_plateau = torch.optim.lr_scheduler.ReduceLROnPlateau(opti, patience=2, verbose=True,mode=\"min\",factor=0.1)"
   ]
  },
  {
   "cell_type": "code",
   "execution_count": 119,
   "metadata": {},
   "outputs": [
    {
     "data": {
      "text/plain": [
       "(12, 1)"
      ]
     },
     "execution_count": 119,
     "metadata": {},
     "output_type": "execute_result"
    }
   ],
   "source": [
    "pred.shape"
   ]
  },
  {
   "cell_type": "code",
   "execution_count": 127,
   "metadata": {},
   "outputs": [
    {
     "data": {
      "text/plain": [
       "torch.Size([8, 12])"
      ]
     },
     "execution_count": 127,
     "metadata": {},
     "output_type": "execute_result"
    }
   ],
   "source": [
    "pred.shape"
   ]
  },
  {
   "cell_type": "code",
   "execution_count": 146,
   "metadata": {},
   "outputs": [
    {
     "name": "stdout",
     "output_type": "stream",
     "text": [
      "16.175823\n",
      "17.07532\n",
      "14.534223\n",
      "15.55252\n",
      "16.589323\n",
      "17.031395\n",
      "17.194115\n",
      "15.287876\n",
      "15.164215\n",
      "16.174025\n",
      "13.9757805\n",
      "16.426678\n",
      "15.633739\n",
      "15.288449\n",
      "17.035128\n",
      "16.301453\n",
      "15.250156\n",
      "14.542135\n",
      "16.560364\n",
      "15.622628\n",
      "15.044153\n",
      "15.670577\n",
      "15.002921\n",
      "15.391244\n",
      "16.180162\n",
      "18.324554\n",
      "16.315939\n",
      "15.165139\n",
      "13.94067\n",
      "16.788103\n",
      "14.2987175\n",
      "15.703443\n",
      "15.343596\n",
      "15.308991\n",
      "15.088647\n",
      "16.792744\n",
      "15.279187\n",
      "14.495621\n",
      "14.459619\n",
      "17.076462\n",
      "15.37073\n",
      "14.693439\n",
      "14.680337\n",
      "15.781128\n",
      "14.749958\n",
      "15.789628\n",
      "17.492834\n",
      "14.850077\n",
      "15.549709\n",
      "15.573047\n",
      "15.704888\n",
      "16.896172\n",
      "15.105975\n",
      "15.373231\n",
      "17.384127\n",
      "16.06681\n",
      "14.583961\n",
      "15.652542\n",
      "15.631234\n",
      "14.30524\n",
      "15.61869\n",
      "16.87848\n",
      "16.975334\n",
      "14.662805\n",
      "15.622827\n",
      "15.455216\n",
      "15.975171\n",
      "15.376847\n",
      "14.469354\n",
      "16.021832\n",
      "15.669803\n",
      "15.477317\n",
      "16.020348\n",
      "17.657824\n",
      "16.382069\n",
      "15.595334\n",
      "15.723548\n",
      "15.930911\n",
      "16.059214\n",
      "15.78605\n",
      "15.634376\n",
      "14.829192\n",
      "16.826464\n",
      "16.202494\n",
      "15.087362\n",
      "15.011677\n",
      "14.933567\n",
      "16.021564\n",
      "16.608282\n",
      "16.983538\n",
      "16.04101\n",
      "16.317518\n",
      "15.497126\n",
      "16.650307\n",
      "14.990101\n",
      "15.02954\n",
      "15.067603\n",
      "15.492992\n",
      "14.529191\n",
      "14.577961\n"
     ]
    }
   ],
   "source": [
    "for j in range(100):\n",
    "    for batch in iter(train_dl):\n",
    "\n",
    "        opti.zero_grad()\n",
    "        inp=batch[0].float()#.unsqueeze(2)\n",
    "        out=batch[1].float()#.unsqueeze(2).float()\n",
    "        shifts=batch[2].numpy()\n",
    "        #it returns the whole sequence atm \n",
    "        pred=sl(inp,1,shifts)[:,-1]\n",
    "        loss=torch.mean(torch.abs(pred-out))\n",
    "\n",
    "        loss.backward()\n",
    "        opti.step()\n",
    "        break\n",
    "    testscore=[]\n",
    "    \n",
    "    for test_batch in iter(test_dl):\n",
    "        test_inp=test_batch[0].float()\n",
    "        test_out=test_batch[1].float().detach().numpy()\n",
    "        shifts=batch[2].numpy()\n",
    "        pred=sl(test_inp,1,shifts)\n",
    "        pred=pred.detach().numpy()\n",
    "\n",
    "        score=np.mean(np.abs(pred-test_out))\n",
    "        testscore.append(score)\n",
    "    score=np.mean(testscore)\n",
    "    #scheduler_plateau.step(score)\n",
    "    print(score)"
   ]
  },
  {
   "cell_type": "code",
   "execution_count": 147,
   "metadata": {
    "collapsed": true
   },
   "outputs": [],
   "source": [
    "params=[]\n",
    "for param in sl.parameters():\n",
    "    params.append(param)"
   ]
  },
  {
   "cell_type": "code",
   "execution_count": 144,
   "metadata": {},
   "outputs": [
    {
     "data": {
      "text/plain": [
       "[Parameter containing:\n",
       " tensor(0.1000, requires_grad=True), Parameter containing:\n",
       " tensor(0.1000, requires_grad=True), Parameter containing:\n",
       " tensor(0.1000, requires_grad=True), Parameter containing:\n",
       " tensor([0.6090, 0.7210, 0.9859, 0.5321, 0.0072, 0.6400, 0.1584, 0.2691, 0.5745,\n",
       "         0.9017, 0.5735, 0.2989], dtype=torch.float64, requires_grad=True), Parameter containing:\n",
       " tensor(0.1000, requires_grad=True)]"
      ]
     },
     "execution_count": 144,
     "metadata": {},
     "output_type": "execute_result"
    }
   ],
   "source": [
    "params"
   ]
  },
  {
   "cell_type": "code",
   "execution_count": 148,
   "metadata": {},
   "outputs": [
    {
     "data": {
      "text/plain": [
       "[Parameter containing:\n",
       " tensor(0.0909, requires_grad=True), Parameter containing:\n",
       " tensor(0.0140, requires_grad=True), Parameter containing:\n",
       " tensor(0.1000, requires_grad=True), Parameter containing:\n",
       " tensor([0.6644, 0.7949, 1.0475, 0.6105, 0.0409, 0.5846, 0.1851, 0.2717, 0.5300,\n",
       "         0.8223, 0.5092, 0.2767], dtype=torch.float64, requires_grad=True), Parameter containing:\n",
       " tensor(0.0458, requires_grad=True)]"
      ]
     },
     "execution_count": 148,
     "metadata": {},
     "output_type": "execute_result"
    }
   ],
   "source": [
    "params"
   ]
  },
  {
   "cell_type": "code",
   "execution_count": 149,
   "metadata": {},
   "outputs": [
    {
     "data": {
      "text/plain": [
       "[<matplotlib.lines.Line2D at 0x7f6ad5cf49b0>]"
      ]
     },
     "execution_count": 149,
     "metadata": {},
     "output_type": "execute_result"
    },
    {
     "data": {
      "image/png": "[encoded data removed]",
      "text/plain": [
       "<Figure size 432x288 with 1 Axes>"
      ]
     },
     "metadata": {},
     "output_type": "display_data"
    }
   ],
   "source": [
    "plt.plot(params[3].detach().numpy())"
   ]
  },
  {
   "cell_type": "code",
   "execution_count": 150,
   "metadata": {
    "collapsed": true
   },
   "outputs": [],
   "source": [
    "sl_t_2=sequence_labeling_dataset(test,12,True)\n",
    "test_dl_2= DataLoader(dataset=sl_t_2,\n",
    "                      batch_size=1,\n",
    "                      shuffle=False\n",
    "                      )"
   ]
  },
  {
   "cell_type": "code",
   "execution_count": 151,
   "metadata": {},
   "outputs": [
    {
     "data": {
      "text/plain": [
       "(11,)"
      ]
     },
     "execution_count": 151,
     "metadata": {},
     "output_type": "execute_result"
    }
   ],
   "source": [
    "sl_t_2[0][1].shape"
   ]
  },
  {
   "cell_type": "code",
   "execution_count": 152,
   "metadata": {},
   "outputs": [
    {
     "data": {
      "text/plain": [
       "(array([18,  8, 17, 21, 31, 34, 44, 38, 31, 30, 26]),\n",
       " array([ 8, 17, 21, 31, 34, 44, 38, 31, 30, 26, 32]),\n",
       " 10)"
      ]
     },
     "execution_count": 152,
     "metadata": {},
     "output_type": "execute_result"
    }
   ],
   "source": [
    "sl_t_2[0]"
   ]
  },
  {
   "cell_type": "code",
   "execution_count": 153,
   "metadata": {
    "collapsed": true
   },
   "outputs": [],
   "source": [
    "test_batch=next(iter(test_dl_2))\n",
    "test_inp=test_batch[0].unsqueeze(2).float()\n",
    "test_out=test_batch[1].unsqueeze(2).float().detach().numpy()\n",
    "shifts=batch[2].numpy()\n",
    "\n",
    "pred=sl(test_inp,1,shifts)\n",
    "pred=pred.detach().numpy()"
   ]
  },
  {
   "cell_type": "code",
   "execution_count": 156,
   "metadata": {},
   "outputs": [
    {
     "data": {
      "text/plain": [
       "torch.Size([1, 11, 1])"
      ]
     },
     "execution_count": 156,
     "metadata": {},
     "output_type": "execute_result"
    }
   ],
   "source": [
    "test_inp.shape"
   ]
  },
  {
   "cell_type": "code",
   "execution_count": 155,
   "metadata": {},
   "outputs": [
    {
     "data": {
      "text/plain": [
       "(1, 12, 1)"
      ]
     },
     "execution_count": 155,
     "metadata": {},
     "output_type": "execute_result"
    }
   ],
   "source": [
    "pred.shape"
   ]
  },
  {
   "cell_type": "code",
   "execution_count": 157,
   "metadata": {},
   "outputs": [
    {
     "data": {
      "image/png": "[encoded data removed]",
      "text/plain": [
       "<Figure size 432x288 with 1 Axes>"
      ]
     },
     "metadata": {},
     "output_type": "display_data"
    }
   ],
   "source": [
    "#lit\n",
    "plt.plot(test_out[0,:,0], 'b') # plotting t, b separately \n",
    "plt.plot(pred[0,:,0], 'g') # plotting t, c separately \n",
    "plt.show()\n"
   ]
  },
  {
   "cell_type": "code",
   "execution_count": 361,
   "metadata": {
    "collapsed": true
   },
   "outputs": [],
   "source": [
    "from numpy import *\n",
    "import math\n",
    "import matplotlib.pyplot as plt"
   ]
  },
  {
   "cell_type": "code",
   "execution_count": 362,
   "metadata": {},
   "outputs": [
    {
     "data": {
      "image/png": "[encoded data removed]",
      "text/plain": [
       "<Figure size 432x288 with 1 Axes>"
      ]
     },
     "metadata": {},
     "output_type": "display_data"
    }
   ],
   "source": [
    "plt.plot(pred[0,:,0], 'b') # plotting t, b separately \n",
    "plt.plot(test_out[0,:,0], 'g') # plotting t, c separately \n",
    "plt.show()"
   ]
  },
  {
   "cell_type": "code",
   "execution_count": null,
   "metadata": {
    "collapsed": true
   },
   "outputs": [],
   "source": [
    "(pred[0,:,0])"
   ]
  },
  {
   "cell_type": "code",
   "execution_count": null,
   "metadata": {
    "collapsed": true
   },
   "outputs": [],
   "source": [
    "plt.plot(pred[0,:,0])"
   ]
  }
 ],
 "metadata": {
  "kernelspec": {
   "display_name": "Python (pytorchenv)",
   "language": "python",
   "name": "pytorch"
  },
  "language_info": {
   "codemirror_mode": {
    "name": "ipython",
    "version": 3
   },
   "file_extension": ".py",
   "mimetype": "text/x-python",
   "name": "python",
   "nbconvert_exporter": "python",
   "pygments_lexer": "ipython3",
   "version": "3.6.3"
  }
 },
 "nbformat": 4,
 "nbformat_minor": 2
}
