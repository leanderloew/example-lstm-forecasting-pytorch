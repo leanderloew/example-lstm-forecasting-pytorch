{
 "cells": [
  {
   "cell_type": "markdown",
   "metadata": {},
   "source": [
    "# Overview\n",
    "\n",
    "In this demo we want to show our two models: A standard LSTM and a reimplementation of ES-LSTM which is a model developed by Uber and won the recent M4 competition.\n",
    "\n",
    "1.) We try out a standard LSTM \n",
    "\n",
    "2.) We try out standrd Exponential Smoothing reimplemented in Pytorch\n",
    "\n",
    "3.) We combine both approaches. \n",
    "\n",
    "4.) We show which future thigs are possible using Neural Networks\n"
   ]
  },
  {
   "cell_type": "markdown",
   "metadata": {},
   "source": [
    "# Future Work\n",
    "A big benefit of using Neural Networks and espeically using a framework like pytorch is, that it is incredibly flexible. We can easily adjust our network structure in variious ways:  Multiple Sesaonalities, Hierachical models. Sharing season, trend or level between series. Including externel regressors or indicators. Using Multiple time series etc... "
   ]
  },
  {
   "cell_type": "code",
   "execution_count": null,
   "metadata": {
    "collapsed": true
   },
   "outputs": [],
   "source": []
  }
 ],
 "metadata": {
  "kernelspec": {
   "display_name": "Python (pytorchenv)",
   "language": "python",
   "name": "pytorch"
  },
  "language_info": {
   "codemirror_mode": {
    "name": "ipython",
    "version": 3
   },
   "file_extension": ".py",
   "mimetype": "text/x-python",
   "name": "python",
   "nbconvert_exporter": "python",
   "pygments_lexer": "ipython3",
   "version": "3.6.3"
  }
 },
 "nbformat": 4,
 "nbformat_minor": 2
}
