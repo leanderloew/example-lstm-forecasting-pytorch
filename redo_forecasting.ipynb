{
 "cells": [
  {
   "cell_type": "code",
   "execution_count": 1,
   "metadata": {
    "collapsed": true
   },
   "outputs": [],
   "source": [
    "import numpy as np \n",
    "import matplotlib.pyplot as plt\n",
    "%matplotlib inline\n",
    "\n",
    "import random\n",
    "from torch.utils.data import Dataset,sampler,DataLoader\n",
    "import torch\n",
    "import torch.nn as nn"
   ]
  },
  {
   "cell_type": "code",
   "execution_count": 2,
   "metadata": {
    "collapsed": true
   },
   "outputs": [],
   "source": [
    "series = [30,21,29,31,40,48,53,47,37,39,31,29,17,9,20,24,27,35,41,38,\n",
    "          27,31,27,26,21,13,21,18,33,35,40,36,22,24,21,20,17,14,17,19,\n",
    "          26,29,40,31,20,24,18,26,17,9,17,21,28,32,46,33,23,28,22,27,\n",
    "          18,8,17,21,31,34,44,38,31,30,26,32]"
   ]
  },
  {
   "cell_type": "code",
   "execution_count": 264,
   "metadata": {
    "collapsed": true
   },
   "outputs": [],
   "source": [
    "train=series[:50]"
   ]
  },
  {
   "cell_type": "code",
   "execution_count": 265,
   "metadata": {
    "collapsed": true
   },
   "outputs": [],
   "source": [
    "test=series"
   ]
  },
  {
   "cell_type": "code",
   "execution_count": 266,
   "metadata": {
    "collapsed": true
   },
   "outputs": [],
   "source": [
    "class sequence_labeling_dataset(Dataset):\n",
    "    \n",
    "    def __init__(self, input,max_size=100,sequence_labeling=True,seasonality=12):     \n",
    "        \n",
    "        self.data=input\n",
    "        self.max_size=max_size\n",
    "        self.sequence_labeling=sequence_labeling\n",
    "        self.seasonality=seasonality\n",
    "\n",
    "    def __len__(self):\n",
    "        \n",
    "        return int(len(self.data))\n",
    "    \n",
    "    def __getitem__(self, index):\n",
    "        \n",
    "        data_i=self.data\n",
    "\n",
    "        inp=np.array(data_i[:-12])\n",
    "        \n",
    "        out=np.array(data_i[-12:])\n",
    "        \n",
    "        return inp, out,0\n",
    "    "
   ]
  },
  {
   "cell_type": "code",
   "execution_count": 318,
   "metadata": {
    "collapsed": true
   },
   "outputs": [],
   "source": [
    "#Dataset with random shuffeling: We have to check, that seasonality gets shifted apropriatly \n",
    "class sequence_labeling_dataset(Dataset):\n",
    "    \n",
    "    def __init__(self, input,max_size=100,sequence_labeling=True,seasonality=12,rshift=True):     \n",
    "        \n",
    "        self.data=input\n",
    "        self.max_size=max_size\n",
    "        self.sequence_labeling=sequence_labeling\n",
    "        self.seasonality=seasonality\n",
    "        self.rshift=rshift\n",
    "\n",
    "    def __len__(self):\n",
    "        \n",
    "        return int(len(self.data))\n",
    "    \n",
    "    def __getitem__(self, index):\n",
    "        \n",
    "        data_i=self.data\n",
    "        \n",
    "        if len(data_i)>self.max_size:\n",
    "            max_rand_int=len(data_i)-self.max_size\n",
    "            #take a random start integer\n",
    "            start_int=random.randint(0,max_rand_int)\n",
    "            #if self.rshift==True: \n",
    "            #    start_int=random.randint(0,6)\n",
    "            #else:\n",
    "            #    start_int=random.randint(0,6)\n",
    "                \n",
    "            #start_int=6\n",
    "            #return the random chunk of our data \n",
    "            data_i=data_i[start_int:(start_int+self.max_size)]\n",
    "        else:\n",
    "            start_int=0\n",
    "            \n",
    "        #Lets try to forecast one whole seasonality \n",
    "        #should be all but the last as the input \n",
    "        inp=np.array(data_i[:-self.seasonality])\n",
    "        \n",
    "        #This is Sequence Classification\n",
    "        if self.sequence_labeling==True:\n",
    "            #this is sequence labeling\n",
    "            out=np.array(data_i[1:])\n",
    "        else:\n",
    "            out=np.array(data_i[-self.seasonality:])\n",
    "            \n",
    "\n",
    "        #k=int((init_shift-1)/self.seasonality)\n",
    "        #shift_steps=self.seasonality+init_shift-self.seasonality*(k+1)\n",
    "        shift_steps=start_int%self.seasonality\n",
    "        \n",
    "        return inp, out,shift_steps\n",
    "    "
   ]
  },
  {
   "cell_type": "code",
   "execution_count": 390,
   "metadata": {
    "collapsed": true
   },
   "outputs": [],
   "source": [
    "sl=sequence_labeling_dataset(train,48,False)\n",
    "train_dl= DataLoader(dataset=sl,\n",
    "                      batch_size=1024,\n",
    "                      shuffle=False\n",
    "                      )\n",
    "#We evaluate in sequence classification mode(its the only true forecast )\n",
    "sl_t=sequence_labeling_dataset(test,1000,False,rshift=False)\n",
    "test_dl= DataLoader(dataset=sl_t,\n",
    "                      batch_size=512,\n",
    "                      shuffle=False\n",
    "\n",
    "                      )\n"
   ]
  },
  {
   "cell_type": "code",
   "execution_count": 391,
   "metadata": {
    "collapsed": true
   },
   "outputs": [],
   "source": [
    "class holt_winters(torch.nn.Module):\n",
    "    \n",
    "    def __init__(self,init_a=0.1,init_b=0.1,init_g=0.1,init_t=0.1,slen=12):\n",
    "      \n",
    "        super(holt_winters, self).__init__()\n",
    "        \n",
    "        self.alpha=torch.nn.Parameter(torch.tensor(init_a))\n",
    "        self.beta=torch.nn.Parameter(torch.tensor(init_b))\n",
    "        self.gamma=torch.nn.Parameter(torch.tensor(init_g))\n",
    "        \n",
    "        self.init_season=torch.nn.Parameter(torch.tensor(np.random.random(size=slen)))\n",
    "        self.init_trend=torch.nn.Parameter(torch.tensor(init_t))\n",
    "        self.slen=slen\n",
    "        self.sig=nn.Sigmoid()\n",
    "        \n",
    "    def forward(self,series ,n_preds,series_shifts,rv=False):\n",
    "        \n",
    "        batch_size=series.shape[0]\n",
    "        init_season_batch=self.init_season.repeat(batch_size).view(batch_size,-1)\n",
    "        #seasonals=init_season_batch.float()\n",
    "        #align for different random shifts in the input (later for different series)\n",
    "        seasonals=torch.stack([torch.roll(j,int(rol)) for j,rol in zip(init_season_batch,series_shifts)]).float()\n",
    "        #we have to work with ists, so pytorch can keeo track of the chagnes ( in place changes of tensors not alllowed)\n",
    "        seasonals=list(torch.split(seasonals,1,dim=1))\n",
    "\n",
    "        #seasonals=[x.view(x.shape[0]) for x in seasonals]\n",
    "        seasonals=[x.squeeze() for x in seasonals]\n",
    "\n",
    "        result = []\n",
    "\n",
    "        for i in range(series.shape[1]+n_preds):\n",
    "\n",
    "            if i == 0: \n",
    "\n",
    "                smooth = series[:,0]\n",
    "                trend = self.init_trend.repeat(batch_size)\n",
    "\n",
    "                result.append(series[:,0])\n",
    "\n",
    "                continue\n",
    "\n",
    "            #smoothing\n",
    "            if i <series.shape[1]:\n",
    "\n",
    "                val = series[:,i]\n",
    "\n",
    "                last_smooth, smooth = smooth, self.sig(self.alpha)*(val-seasonals[i%self.slen]) + (1-self.sig(self.alpha))*(smooth+trend)\n",
    "\n",
    "                trend = self.sig(self.beta) * (smooth-last_smooth) + (1-self.sig(self.beta))*trend\n",
    "                seasonals[i%self.slen] = self.sig(self.gamma)*(val-smooth) + (1-self.sig(self.gamma))*seasonals[i%self.slen]\n",
    "\n",
    "                result.append(smooth+trend+seasonals[i%self.slen])\n",
    "\n",
    "            else:\n",
    "\n",
    "                m = i - len(series) + 1\n",
    "                result.append((smooth + m*trend) + seasonals[i%self.slen])\n",
    "        if rv==False:\n",
    "            return torch.stack(result,dim=1)\n",
    "        else:\n",
    "            return torch.stack(result,dim=1),smooth,trend,seasonals\n",
    "                "
   ]
  },
  {
   "cell_type": "code",
   "execution_count": 392,
   "metadata": {
    "collapsed": true
   },
   "outputs": [],
   "source": [
    "hw=holt_winters().cuda()"
   ]
  },
  {
   "cell_type": "code",
   "execution_count": 393,
   "metadata": {
    "collapsed": true
   },
   "outputs": [],
   "source": [
    "opti = torch.optim.Adam(hw.parameters(), lr=0.01)#,weight_decay=0.0001"
   ]
  },
  {
   "cell_type": "code",
   "execution_count": 394,
   "metadata": {
    "collapsed": true
   },
   "outputs": [],
   "source": [
    "loss_list=[]\n"
   ]
  },
  {
   "cell_type": "code",
   "execution_count": 397,
   "metadata": {},
   "outputs": [
    {
     "name": "stdout",
     "output_type": "stream",
     "text": [
      "tensor(2.7155, device='cuda:0', grad_fn=<MeanBackward1>)\n",
      "tensor(2.7108, device='cuda:0', grad_fn=<MeanBackward1>)\n",
      "tensor(2.7062, device='cuda:0', grad_fn=<MeanBackward1>)\n",
      "tensor(2.7019, device='cuda:0', grad_fn=<MeanBackward1>)\n",
      "tensor(2.6979, device='cuda:0', grad_fn=<MeanBackward1>)\n",
      "tensor(2.6941, device='cuda:0', grad_fn=<MeanBackward1>)\n",
      "tensor(2.6903, device='cuda:0', grad_fn=<MeanBackward1>)\n",
      "tensor(2.6866, device='cuda:0', grad_fn=<MeanBackward1>)\n",
      "tensor(2.6829, device='cuda:0', grad_fn=<MeanBackward1>)\n",
      "tensor(2.6795, device='cuda:0', grad_fn=<MeanBackward1>)\n",
      "tensor(2.6760, device='cuda:0', grad_fn=<MeanBackward1>)\n",
      "tensor(2.6727, device='cuda:0', grad_fn=<MeanBackward1>)\n",
      "tensor(2.6693, device='cuda:0', grad_fn=<MeanBackward1>)\n",
      "tensor(2.6661, device='cuda:0', grad_fn=<MeanBackward1>)\n",
      "tensor(2.6628, device='cuda:0', grad_fn=<MeanBackward1>)\n",
      "tensor(2.6602, device='cuda:0', grad_fn=<MeanBackward1>)\n",
      "tensor(2.6588, device='cuda:0', grad_fn=<MeanBackward1>)\n",
      "tensor(2.6574, device='cuda:0', grad_fn=<MeanBackward1>)\n",
      "tensor(2.6560, device='cuda:0', grad_fn=<MeanBackward1>)\n",
      "tensor(2.6546, device='cuda:0', grad_fn=<MeanBackward1>)\n",
      "tensor(2.6533, device='cuda:0', grad_fn=<MeanBackward1>)\n",
      "tensor(2.6521, device='cuda:0', grad_fn=<MeanBackward1>)\n",
      "tensor(2.6509, device='cuda:0', grad_fn=<MeanBackward1>)\n",
      "tensor(2.6499, device='cuda:0', grad_fn=<MeanBackward1>)\n",
      "tensor(2.6488, device='cuda:0', grad_fn=<MeanBackward1>)\n",
      "tensor(2.6488, device='cuda:0', grad_fn=<MeanBackward1>)\n",
      "tensor(2.6493, device='cuda:0', grad_fn=<MeanBackward1>)\n",
      "tensor(2.6497, device='cuda:0', grad_fn=<MeanBackward1>)\n",
      "tensor(2.6501, device='cuda:0', grad_fn=<MeanBackward1>)\n",
      "tensor(2.6506, device='cuda:0', grad_fn=<MeanBackward1>)\n",
      "tensor(2.6511, device='cuda:0', grad_fn=<MeanBackward1>)\n",
      "tensor(2.6516, device='cuda:0', grad_fn=<MeanBackward1>)\n",
      "tensor(2.6521, device='cuda:0', grad_fn=<MeanBackward1>)\n",
      "tensor(2.6526, device='cuda:0', grad_fn=<MeanBackward1>)\n",
      "tensor(2.6532, device='cuda:0', grad_fn=<MeanBackward1>)\n",
      "tensor(2.6536, device='cuda:0', grad_fn=<MeanBackward1>)\n",
      "tensor(2.6541, device='cuda:0', grad_fn=<MeanBackward1>)\n",
      "tensor(2.6546, device='cuda:0', grad_fn=<MeanBackward1>)\n",
      "tensor(2.6551, device='cuda:0', grad_fn=<MeanBackward1>)\n",
      "tensor(2.6557, device='cuda:0', grad_fn=<MeanBackward1>)\n",
      "tensor(2.6562, device='cuda:0', grad_fn=<MeanBackward1>)\n",
      "tensor(2.6567, device='cuda:0', grad_fn=<MeanBackward1>)\n",
      "tensor(2.6572, device='cuda:0', grad_fn=<MeanBackward1>)\n",
      "tensor(2.6577, device='cuda:0', grad_fn=<MeanBackward1>)\n",
      "tensor(2.6582, device='cuda:0', grad_fn=<MeanBackward1>)\n",
      "tensor(2.6590, device='cuda:0', grad_fn=<MeanBackward1>)\n",
      "tensor(2.6597, device='cuda:0', grad_fn=<MeanBackward1>)\n",
      "tensor(2.6605, device='cuda:0', grad_fn=<MeanBackward1>)\n",
      "tensor(2.6613, device='cuda:0', grad_fn=<MeanBackward1>)\n",
      "tensor(2.6619, device='cuda:0', grad_fn=<MeanBackward1>)\n",
      "tensor(2.6626, device='cuda:0', grad_fn=<MeanBackward1>)\n",
      "tensor(2.6633, device='cuda:0', grad_fn=<MeanBackward1>)\n",
      "tensor(2.6639, device='cuda:0', grad_fn=<MeanBackward1>)\n",
      "tensor(2.6645, device='cuda:0', grad_fn=<MeanBackward1>)\n",
      "tensor(2.6654, device='cuda:0', grad_fn=<MeanBackward1>)\n",
      "tensor(2.6661, device='cuda:0', grad_fn=<MeanBackward1>)\n",
      "tensor(2.6669, device='cuda:0', grad_fn=<MeanBackward1>)\n",
      "tensor(2.6676, device='cuda:0', grad_fn=<MeanBackward1>)\n",
      "tensor(2.6684, device='cuda:0', grad_fn=<MeanBackward1>)\n",
      "tensor(2.6691, device='cuda:0', grad_fn=<MeanBackward1>)\n",
      "tensor(2.6698, device='cuda:0', grad_fn=<MeanBackward1>)\n",
      "tensor(2.6705, device='cuda:0', grad_fn=<MeanBackward1>)\n",
      "tensor(2.6712, device='cuda:0', grad_fn=<MeanBackward1>)\n",
      "tensor(2.6719, device='cuda:0', grad_fn=<MeanBackward1>)\n",
      "tensor(2.6726, device='cuda:0', grad_fn=<MeanBackward1>)\n",
      "tensor(2.6732, device='cuda:0', grad_fn=<MeanBackward1>)\n",
      "tensor(2.6738, device='cuda:0', grad_fn=<MeanBackward1>)\n",
      "tensor(2.6744, device='cuda:0', grad_fn=<MeanBackward1>)\n",
      "tensor(2.6751, device='cuda:0', grad_fn=<MeanBackward1>)\n",
      "tensor(2.6756, device='cuda:0', grad_fn=<MeanBackward1>)\n",
      "tensor(2.6762, device='cuda:0', grad_fn=<MeanBackward1>)\n",
      "tensor(2.6767, device='cuda:0', grad_fn=<MeanBackward1>)\n",
      "tensor(2.6771, device='cuda:0', grad_fn=<MeanBackward1>)\n",
      "tensor(2.6777, device='cuda:0', grad_fn=<MeanBackward1>)\n",
      "tensor(2.6784, device='cuda:0', grad_fn=<MeanBackward1>)\n",
      "tensor(2.6792, device='cuda:0', grad_fn=<MeanBackward1>)\n",
      "tensor(2.6799, device='cuda:0', grad_fn=<MeanBackward1>)\n",
      "tensor(2.6805, device='cuda:0', grad_fn=<MeanBackward1>)\n",
      "tensor(2.6813, device='cuda:0', grad_fn=<MeanBackward1>)\n",
      "tensor(2.6819, device='cuda:0', grad_fn=<MeanBackward1>)\n",
      "tensor(2.6823, device='cuda:0', grad_fn=<MeanBackward1>)\n",
      "tensor(2.6828, device='cuda:0', grad_fn=<MeanBackward1>)\n",
      "tensor(2.6835, device='cuda:0', grad_fn=<MeanBackward1>)\n",
      "tensor(2.6844, device='cuda:0', grad_fn=<MeanBackward1>)\n",
      "tensor(2.6851, device='cuda:0', grad_fn=<MeanBackward1>)\n",
      "tensor(2.6857, device='cuda:0', grad_fn=<MeanBackward1>)\n",
      "tensor(2.6862, device='cuda:0', grad_fn=<MeanBackward1>)\n",
      "tensor(2.6866, device='cuda:0', grad_fn=<MeanBackward1>)\n",
      "tensor(2.6868, device='cuda:0', grad_fn=<MeanBackward1>)\n",
      "tensor(2.6871, device='cuda:0', grad_fn=<MeanBackward1>)\n",
      "tensor(2.6877, device='cuda:0', grad_fn=<MeanBackward1>)\n",
      "tensor(2.6883, device='cuda:0', grad_fn=<MeanBackward1>)\n",
      "tensor(2.6890, device='cuda:0', grad_fn=<MeanBackward1>)\n",
      "tensor(2.6899, device='cuda:0', grad_fn=<MeanBackward1>)\n",
      "tensor(2.6909, device='cuda:0', grad_fn=<MeanBackward1>)\n",
      "tensor(2.6917, device='cuda:0', grad_fn=<MeanBackward1>)\n",
      "tensor(2.6924, device='cuda:0', grad_fn=<MeanBackward1>)\n",
      "tensor(2.6930, device='cuda:0', grad_fn=<MeanBackward1>)\n",
      "tensor(2.6935, device='cuda:0', grad_fn=<MeanBackward1>)\n",
      "tensor(2.6938, device='cuda:0', grad_fn=<MeanBackward1>)\n",
      "tensor(2.6940, device='cuda:0', grad_fn=<MeanBackward1>)\n",
      "tensor(2.6942, device='cuda:0', grad_fn=<MeanBackward1>)\n",
      "tensor(2.6946, device='cuda:0', grad_fn=<MeanBackward1>)\n",
      "tensor(2.6952, device='cuda:0', grad_fn=<MeanBackward1>)\n",
      "tensor(2.6958, device='cuda:0', grad_fn=<MeanBackward1>)\n",
      "tensor(2.6965, device='cuda:0', grad_fn=<MeanBackward1>)\n",
      "tensor(2.6974, device='cuda:0', grad_fn=<MeanBackward1>)\n",
      "tensor(2.6983, device='cuda:0', grad_fn=<MeanBackward1>)\n",
      "tensor(2.6993, device='cuda:0', grad_fn=<MeanBackward1>)\n",
      "tensor(2.7002, device='cuda:0', grad_fn=<MeanBackward1>)\n",
      "tensor(2.7010, device='cuda:0', grad_fn=<MeanBackward1>)\n",
      "tensor(2.7016, device='cuda:0', grad_fn=<MeanBackward1>)\n",
      "tensor(2.7024, device='cuda:0', grad_fn=<MeanBackward1>)\n",
      "tensor(2.7032, device='cuda:0', grad_fn=<MeanBackward1>)\n",
      "tensor(2.7041, device='cuda:0', grad_fn=<MeanBackward1>)\n",
      "tensor(2.7052, device='cuda:0', grad_fn=<MeanBackward1>)\n",
      "tensor(2.7061, device='cuda:0', grad_fn=<MeanBackward1>)\n",
      "tensor(2.7069, device='cuda:0', grad_fn=<MeanBackward1>)\n",
      "tensor(2.7075, device='cuda:0', grad_fn=<MeanBackward1>)\n",
      "tensor(2.7080, device='cuda:0', grad_fn=<MeanBackward1>)\n",
      "tensor(2.7084, device='cuda:0', grad_fn=<MeanBackward1>)\n",
      "tensor(2.7089, device='cuda:0', grad_fn=<MeanBackward1>)\n",
      "tensor(2.7095, device='cuda:0', grad_fn=<MeanBackward1>)\n",
      "tensor(2.7103, device='cuda:0', grad_fn=<MeanBackward1>)\n",
      "tensor(2.7113, device='cuda:0', grad_fn=<MeanBackward1>)\n",
      "tensor(2.7124, device='cuda:0', grad_fn=<MeanBackward1>)\n",
      "tensor(2.7136, device='cuda:0', grad_fn=<MeanBackward1>)\n",
      "tensor(2.7150, device='cuda:0', grad_fn=<MeanBackward1>)\n",
      "tensor(2.7162, device='cuda:0', grad_fn=<MeanBackward1>)\n",
      "tensor(2.7171, device='cuda:0', grad_fn=<MeanBackward1>)\n",
      "tensor(2.7177, device='cuda:0', grad_fn=<MeanBackward1>)\n",
      "tensor(2.7181, device='cuda:0', grad_fn=<MeanBackward1>)\n",
      "tensor(2.7183, device='cuda:0', grad_fn=<MeanBackward1>)\n",
      "tensor(2.7187, device='cuda:0', grad_fn=<MeanBackward1>)\n",
      "tensor(2.7191, device='cuda:0', grad_fn=<MeanBackward1>)\n",
      "tensor(2.7196, device='cuda:0', grad_fn=<MeanBackward1>)\n",
      "tensor(2.7201, device='cuda:0', grad_fn=<MeanBackward1>)\n",
      "tensor(2.7207, device='cuda:0', grad_fn=<MeanBackward1>)\n",
      "tensor(2.7213, device='cuda:0', grad_fn=<MeanBackward1>)\n",
      "tensor(2.7221, device='cuda:0', grad_fn=<MeanBackward1>)\n",
      "tensor(2.7228, device='cuda:0', grad_fn=<MeanBackward1>)\n",
      "tensor(2.7234, device='cuda:0', grad_fn=<MeanBackward1>)\n",
      "tensor(2.7242, device='cuda:0', grad_fn=<MeanBackward1>)\n",
      "tensor(2.7249, device='cuda:0', grad_fn=<MeanBackward1>)\n"
     ]
    },
    {
     "name": "stdout",
     "output_type": "stream",
     "text": [
      "tensor(2.7258, device='cuda:0', grad_fn=<MeanBackward1>)\n",
      "tensor(2.7267, device='cuda:0', grad_fn=<MeanBackward1>)\n",
      "tensor(2.7276, device='cuda:0', grad_fn=<MeanBackward1>)\n",
      "tensor(2.7285, device='cuda:0', grad_fn=<MeanBackward1>)\n",
      "tensor(2.7294, device='cuda:0', grad_fn=<MeanBackward1>)\n",
      "tensor(2.7303, device='cuda:0', grad_fn=<MeanBackward1>)\n",
      "tensor(2.7312, device='cuda:0', grad_fn=<MeanBackward1>)\n",
      "tensor(2.7322, device='cuda:0', grad_fn=<MeanBackward1>)\n",
      "tensor(2.7331, device='cuda:0', grad_fn=<MeanBackward1>)\n",
      "tensor(2.7340, device='cuda:0', grad_fn=<MeanBackward1>)\n",
      "tensor(2.7349, device='cuda:0', grad_fn=<MeanBackward1>)\n",
      "tensor(2.7358, device='cuda:0', grad_fn=<MeanBackward1>)\n",
      "tensor(2.7365, device='cuda:0', grad_fn=<MeanBackward1>)\n",
      "tensor(2.7374, device='cuda:0', grad_fn=<MeanBackward1>)\n",
      "tensor(2.7385, device='cuda:0', grad_fn=<MeanBackward1>)\n",
      "tensor(2.7393, device='cuda:0', grad_fn=<MeanBackward1>)\n",
      "tensor(2.7398, device='cuda:0', grad_fn=<MeanBackward1>)\n",
      "tensor(2.7401, device='cuda:0', grad_fn=<MeanBackward1>)\n",
      "tensor(2.7401, device='cuda:0', grad_fn=<MeanBackward1>)\n",
      "tensor(2.7402, device='cuda:0', grad_fn=<MeanBackward1>)\n",
      "tensor(2.7403, device='cuda:0', grad_fn=<MeanBackward1>)\n",
      "tensor(2.7405, device='cuda:0', grad_fn=<MeanBackward1>)\n",
      "tensor(2.7408, device='cuda:0', grad_fn=<MeanBackward1>)\n",
      "tensor(2.7409, device='cuda:0', grad_fn=<MeanBackward1>)\n",
      "tensor(2.7409, device='cuda:0', grad_fn=<MeanBackward1>)\n",
      "tensor(2.7409, device='cuda:0', grad_fn=<MeanBackward1>)\n",
      "tensor(2.7410, device='cuda:0', grad_fn=<MeanBackward1>)\n",
      "tensor(2.7412, device='cuda:0', grad_fn=<MeanBackward1>)\n",
      "tensor(2.7416, device='cuda:0', grad_fn=<MeanBackward1>)\n",
      "tensor(2.7419, device='cuda:0', grad_fn=<MeanBackward1>)\n",
      "tensor(2.7422, device='cuda:0', grad_fn=<MeanBackward1>)\n",
      "tensor(2.7421, device='cuda:0', grad_fn=<MeanBackward1>)\n",
      "tensor(2.7422, device='cuda:0', grad_fn=<MeanBackward1>)\n",
      "tensor(2.7423, device='cuda:0', grad_fn=<MeanBackward1>)\n",
      "tensor(2.7423, device='cuda:0', grad_fn=<MeanBackward1>)\n",
      "tensor(2.7421, device='cuda:0', grad_fn=<MeanBackward1>)\n",
      "tensor(2.7418, device='cuda:0', grad_fn=<MeanBackward1>)\n",
      "tensor(2.7416, device='cuda:0', grad_fn=<MeanBackward1>)\n",
      "tensor(2.7413, device='cuda:0', grad_fn=<MeanBackward1>)\n",
      "tensor(2.7412, device='cuda:0', grad_fn=<MeanBackward1>)\n",
      "tensor(2.7409, device='cuda:0', grad_fn=<MeanBackward1>)\n",
      "tensor(2.7405, device='cuda:0', grad_fn=<MeanBackward1>)\n",
      "tensor(2.7398, device='cuda:0', grad_fn=<MeanBackward1>)\n",
      "tensor(2.7389, device='cuda:0', grad_fn=<MeanBackward1>)\n",
      "tensor(2.7383, device='cuda:0', grad_fn=<MeanBackward1>)\n",
      "tensor(2.7378, device='cuda:0', grad_fn=<MeanBackward1>)\n",
      "tensor(2.7376, device='cuda:0', grad_fn=<MeanBackward1>)\n",
      "tensor(2.7373, device='cuda:0', grad_fn=<MeanBackward1>)\n",
      "tensor(2.7372, device='cuda:0', grad_fn=<MeanBackward1>)\n",
      "tensor(2.7372, device='cuda:0', grad_fn=<MeanBackward1>)\n",
      "tensor(2.7374, device='cuda:0', grad_fn=<MeanBackward1>)\n",
      "tensor(2.7376, device='cuda:0', grad_fn=<MeanBackward1>)\n",
      "tensor(2.7380, device='cuda:0', grad_fn=<MeanBackward1>)\n",
      "tensor(2.7385, device='cuda:0', grad_fn=<MeanBackward1>)\n",
      "tensor(2.7388, device='cuda:0', grad_fn=<MeanBackward1>)\n",
      "tensor(2.7389, device='cuda:0', grad_fn=<MeanBackward1>)\n",
      "tensor(2.7389, device='cuda:0', grad_fn=<MeanBackward1>)\n",
      "tensor(2.7390, device='cuda:0', grad_fn=<MeanBackward1>)\n",
      "tensor(2.7392, device='cuda:0', grad_fn=<MeanBackward1>)\n",
      "tensor(2.7395, device='cuda:0', grad_fn=<MeanBackward1>)\n",
      "tensor(2.7397, device='cuda:0', grad_fn=<MeanBackward1>)\n",
      "tensor(2.7400, device='cuda:0', grad_fn=<MeanBackward1>)\n",
      "tensor(2.7403, device='cuda:0', grad_fn=<MeanBackward1>)\n",
      "tensor(2.7408, device='cuda:0', grad_fn=<MeanBackward1>)\n",
      "tensor(2.7410, device='cuda:0', grad_fn=<MeanBackward1>)\n",
      "tensor(2.7410, device='cuda:0', grad_fn=<MeanBackward1>)\n",
      "tensor(2.7412, device='cuda:0', grad_fn=<MeanBackward1>)\n",
      "tensor(2.7416, device='cuda:0', grad_fn=<MeanBackward1>)\n",
      "tensor(2.7420, device='cuda:0', grad_fn=<MeanBackward1>)\n",
      "tensor(2.7426, device='cuda:0', grad_fn=<MeanBackward1>)\n",
      "tensor(2.7433, device='cuda:0', grad_fn=<MeanBackward1>)\n",
      "tensor(2.7437, device='cuda:0', grad_fn=<MeanBackward1>)\n",
      "tensor(2.7441, device='cuda:0', grad_fn=<MeanBackward1>)\n",
      "tensor(2.7444, device='cuda:0', grad_fn=<MeanBackward1>)\n",
      "tensor(2.7447, device='cuda:0', grad_fn=<MeanBackward1>)\n",
      "tensor(2.7451, device='cuda:0', grad_fn=<MeanBackward1>)\n",
      "tensor(2.7454, device='cuda:0', grad_fn=<MeanBackward1>)\n",
      "tensor(2.7455, device='cuda:0', grad_fn=<MeanBackward1>)\n",
      "tensor(2.7455, device='cuda:0', grad_fn=<MeanBackward1>)\n",
      "tensor(2.7454, device='cuda:0', grad_fn=<MeanBackward1>)\n",
      "tensor(2.7455, device='cuda:0', grad_fn=<MeanBackward1>)\n",
      "tensor(2.7459, device='cuda:0', grad_fn=<MeanBackward1>)\n",
      "tensor(2.7463, device='cuda:0', grad_fn=<MeanBackward1>)\n",
      "tensor(2.7466, device='cuda:0', grad_fn=<MeanBackward1>)\n",
      "tensor(2.7471, device='cuda:0', grad_fn=<MeanBackward1>)\n",
      "tensor(2.7475, device='cuda:0', grad_fn=<MeanBackward1>)\n",
      "tensor(2.7478, device='cuda:0', grad_fn=<MeanBackward1>)\n",
      "tensor(2.7480, device='cuda:0', grad_fn=<MeanBackward1>)\n",
      "tensor(2.7484, device='cuda:0', grad_fn=<MeanBackward1>)\n",
      "tensor(2.7487, device='cuda:0', grad_fn=<MeanBackward1>)\n",
      "tensor(2.7490, device='cuda:0', grad_fn=<MeanBackward1>)\n",
      "tensor(2.7495, device='cuda:0', grad_fn=<MeanBackward1>)\n",
      "tensor(2.7500, device='cuda:0', grad_fn=<MeanBackward1>)\n",
      "tensor(2.7507, device='cuda:0', grad_fn=<MeanBackward1>)\n",
      "tensor(2.7512, device='cuda:0', grad_fn=<MeanBackward1>)\n",
      "tensor(2.7519, device='cuda:0', grad_fn=<MeanBackward1>)\n",
      "tensor(2.7526, device='cuda:0', grad_fn=<MeanBackward1>)\n",
      "tensor(2.7534, device='cuda:0', grad_fn=<MeanBackward1>)\n",
      "tensor(2.7543, device='cuda:0', grad_fn=<MeanBackward1>)\n",
      "tensor(2.7551, device='cuda:0', grad_fn=<MeanBackward1>)\n",
      "tensor(2.7558, device='cuda:0', grad_fn=<MeanBackward1>)\n",
      "tensor(2.7565, device='cuda:0', grad_fn=<MeanBackward1>)\n",
      "tensor(2.7572, device='cuda:0', grad_fn=<MeanBackward1>)\n",
      "tensor(2.7578, device='cuda:0', grad_fn=<MeanBackward1>)\n",
      "tensor(2.7584, device='cuda:0', grad_fn=<MeanBackward1>)\n",
      "tensor(2.7589, device='cuda:0', grad_fn=<MeanBackward1>)\n",
      "tensor(2.7594, device='cuda:0', grad_fn=<MeanBackward1>)\n",
      "tensor(2.7600, device='cuda:0', grad_fn=<MeanBackward1>)\n",
      "tensor(2.7603, device='cuda:0', grad_fn=<MeanBackward1>)\n",
      "tensor(2.7606, device='cuda:0', grad_fn=<MeanBackward1>)\n",
      "tensor(2.7609, device='cuda:0', grad_fn=<MeanBackward1>)\n",
      "tensor(2.7611, device='cuda:0', grad_fn=<MeanBackward1>)\n",
      "tensor(2.7614, device='cuda:0', grad_fn=<MeanBackward1>)\n",
      "tensor(2.7617, device='cuda:0', grad_fn=<MeanBackward1>)\n",
      "tensor(2.7619, device='cuda:0', grad_fn=<MeanBackward1>)\n",
      "tensor(2.7621, device='cuda:0', grad_fn=<MeanBackward1>)\n",
      "tensor(2.7624, device='cuda:0', grad_fn=<MeanBackward1>)\n",
      "tensor(2.7629, device='cuda:0', grad_fn=<MeanBackward1>)\n",
      "tensor(2.7633, device='cuda:0', grad_fn=<MeanBackward1>)\n",
      "tensor(2.7638, device='cuda:0', grad_fn=<MeanBackward1>)\n",
      "tensor(2.7645, device='cuda:0', grad_fn=<MeanBackward1>)\n",
      "tensor(2.7652, device='cuda:0', grad_fn=<MeanBackward1>)\n",
      "tensor(2.7659, device='cuda:0', grad_fn=<MeanBackward1>)\n",
      "tensor(2.7665, device='cuda:0', grad_fn=<MeanBackward1>)\n",
      "tensor(2.7671, device='cuda:0', grad_fn=<MeanBackward1>)\n",
      "tensor(2.7677, device='cuda:0', grad_fn=<MeanBackward1>)\n",
      "tensor(2.7680, device='cuda:0', grad_fn=<MeanBackward1>)\n",
      "tensor(2.7683, device='cuda:0', grad_fn=<MeanBackward1>)\n",
      "tensor(2.7685, device='cuda:0', grad_fn=<MeanBackward1>)\n",
      "tensor(2.7687, device='cuda:0', grad_fn=<MeanBackward1>)\n",
      "tensor(2.7689, device='cuda:0', grad_fn=<MeanBackward1>)\n",
      "tensor(2.7690, device='cuda:0', grad_fn=<MeanBackward1>)\n",
      "tensor(2.7693, device='cuda:0', grad_fn=<MeanBackward1>)\n",
      "tensor(2.7697, device='cuda:0', grad_fn=<MeanBackward1>)\n",
      "tensor(2.7699, device='cuda:0', grad_fn=<MeanBackward1>)\n",
      "tensor(2.7703, device='cuda:0', grad_fn=<MeanBackward1>)\n",
      "tensor(2.7707, device='cuda:0', grad_fn=<MeanBackward1>)\n",
      "tensor(2.7710, device='cuda:0', grad_fn=<MeanBackward1>)\n",
      "tensor(2.7712, device='cuda:0', grad_fn=<MeanBackward1>)\n",
      "tensor(2.7715, device='cuda:0', grad_fn=<MeanBackward1>)\n",
      "tensor(2.7717, device='cuda:0', grad_fn=<MeanBackward1>)\n",
      "tensor(2.7715, device='cuda:0', grad_fn=<MeanBackward1>)\n",
      "tensor(2.7713, device='cuda:0', grad_fn=<MeanBackward1>)\n",
      "tensor(2.7711, device='cuda:0', grad_fn=<MeanBackward1>)\n"
     ]
    },
    {
     "name": "stdout",
     "output_type": "stream",
     "text": [
      "tensor(2.7710, device='cuda:0', grad_fn=<MeanBackward1>)\n",
      "tensor(2.7708, device='cuda:0', grad_fn=<MeanBackward1>)\n",
      "tensor(2.7707, device='cuda:0', grad_fn=<MeanBackward1>)\n",
      "tensor(2.7706, device='cuda:0', grad_fn=<MeanBackward1>)\n",
      "tensor(2.7706, device='cuda:0', grad_fn=<MeanBackward1>)\n",
      "tensor(2.7707, device='cuda:0', grad_fn=<MeanBackward1>)\n",
      "tensor(2.7708, device='cuda:0', grad_fn=<MeanBackward1>)\n",
      "tensor(2.7709, device='cuda:0', grad_fn=<MeanBackward1>)\n",
      "tensor(2.7709, device='cuda:0', grad_fn=<MeanBackward1>)\n",
      "tensor(2.7707, device='cuda:0', grad_fn=<MeanBackward1>)\n",
      "tensor(2.7706, device='cuda:0', grad_fn=<MeanBackward1>)\n",
      "tensor(2.7703, device='cuda:0', grad_fn=<MeanBackward1>)\n",
      "tensor(2.7700, device='cuda:0', grad_fn=<MeanBackward1>)\n",
      "tensor(2.7697, device='cuda:0', grad_fn=<MeanBackward1>)\n",
      "tensor(2.7692, device='cuda:0', grad_fn=<MeanBackward1>)\n",
      "tensor(2.7687, device='cuda:0', grad_fn=<MeanBackward1>)\n",
      "tensor(2.7680, device='cuda:0', grad_fn=<MeanBackward1>)\n",
      "tensor(2.7673, device='cuda:0', grad_fn=<MeanBackward1>)\n",
      "tensor(2.7666, device='cuda:0', grad_fn=<MeanBackward1>)\n",
      "tensor(2.7663, device='cuda:0', grad_fn=<MeanBackward1>)\n",
      "tensor(2.7660, device='cuda:0', grad_fn=<MeanBackward1>)\n",
      "tensor(2.7660, device='cuda:0', grad_fn=<MeanBackward1>)\n",
      "tensor(2.7660, device='cuda:0', grad_fn=<MeanBackward1>)\n",
      "tensor(2.7661, device='cuda:0', grad_fn=<MeanBackward1>)\n",
      "tensor(2.7663, device='cuda:0', grad_fn=<MeanBackward1>)\n",
      "tensor(2.7664, device='cuda:0', grad_fn=<MeanBackward1>)\n",
      "tensor(2.7666, device='cuda:0', grad_fn=<MeanBackward1>)\n",
      "tensor(2.7667, device='cuda:0', grad_fn=<MeanBackward1>)\n",
      "tensor(2.7667, device='cuda:0', grad_fn=<MeanBackward1>)\n",
      "tensor(2.7667, device='cuda:0', grad_fn=<MeanBackward1>)\n",
      "tensor(2.7666, device='cuda:0', grad_fn=<MeanBackward1>)\n",
      "tensor(2.7665, device='cuda:0', grad_fn=<MeanBackward1>)\n",
      "tensor(2.7663, device='cuda:0', grad_fn=<MeanBackward1>)\n",
      "tensor(2.7662, device='cuda:0', grad_fn=<MeanBackward1>)\n",
      "tensor(2.7660, device='cuda:0', grad_fn=<MeanBackward1>)\n",
      "tensor(2.7657, device='cuda:0', grad_fn=<MeanBackward1>)\n",
      "tensor(2.7655, device='cuda:0', grad_fn=<MeanBackward1>)\n",
      "tensor(2.7653, device='cuda:0', grad_fn=<MeanBackward1>)\n",
      "tensor(2.7653, device='cuda:0', grad_fn=<MeanBackward1>)\n",
      "tensor(2.7657, device='cuda:0', grad_fn=<MeanBackward1>)\n",
      "tensor(2.7659, device='cuda:0', grad_fn=<MeanBackward1>)\n",
      "tensor(2.7660, device='cuda:0', grad_fn=<MeanBackward1>)\n",
      "tensor(2.7661, device='cuda:0', grad_fn=<MeanBackward1>)\n",
      "tensor(2.7662, device='cuda:0', grad_fn=<MeanBackward1>)\n",
      "tensor(2.7662, device='cuda:0', grad_fn=<MeanBackward1>)\n",
      "tensor(2.7662, device='cuda:0', grad_fn=<MeanBackward1>)\n",
      "tensor(2.7662, device='cuda:0', grad_fn=<MeanBackward1>)\n",
      "tensor(2.7662, device='cuda:0', grad_fn=<MeanBackward1>)\n",
      "tensor(2.7662, device='cuda:0', grad_fn=<MeanBackward1>)\n",
      "tensor(2.7661, device='cuda:0', grad_fn=<MeanBackward1>)\n",
      "tensor(2.7661, device='cuda:0', grad_fn=<MeanBackward1>)\n",
      "tensor(2.7659, device='cuda:0', grad_fn=<MeanBackward1>)\n",
      "tensor(2.7658, device='cuda:0', grad_fn=<MeanBackward1>)\n",
      "tensor(2.7657, device='cuda:0', grad_fn=<MeanBackward1>)\n",
      "tensor(2.7655, device='cuda:0', grad_fn=<MeanBackward1>)\n",
      "tensor(2.7653, device='cuda:0', grad_fn=<MeanBackward1>)\n",
      "tensor(2.7651, device='cuda:0', grad_fn=<MeanBackward1>)\n",
      "tensor(2.7648, device='cuda:0', grad_fn=<MeanBackward1>)\n",
      "tensor(2.7645, device='cuda:0', grad_fn=<MeanBackward1>)\n",
      "tensor(2.7642, device='cuda:0', grad_fn=<MeanBackward1>)\n",
      "tensor(2.7639, device='cuda:0', grad_fn=<MeanBackward1>)\n",
      "tensor(2.7636, device='cuda:0', grad_fn=<MeanBackward1>)\n",
      "tensor(2.7632, device='cuda:0', grad_fn=<MeanBackward1>)\n",
      "tensor(2.7629, device='cuda:0', grad_fn=<MeanBackward1>)\n",
      "tensor(2.7629, device='cuda:0', grad_fn=<MeanBackward1>)\n",
      "tensor(2.7633, device='cuda:0', grad_fn=<MeanBackward1>)\n",
      "tensor(2.7636, device='cuda:0', grad_fn=<MeanBackward1>)\n",
      "tensor(2.7638, device='cuda:0', grad_fn=<MeanBackward1>)\n",
      "tensor(2.7641, device='cuda:0', grad_fn=<MeanBackward1>)\n",
      "tensor(2.7643, device='cuda:0', grad_fn=<MeanBackward1>)\n",
      "tensor(2.7644, device='cuda:0', grad_fn=<MeanBackward1>)\n",
      "tensor(2.7646, device='cuda:0', grad_fn=<MeanBackward1>)\n",
      "tensor(2.7648, device='cuda:0', grad_fn=<MeanBackward1>)\n",
      "tensor(2.7648, device='cuda:0', grad_fn=<MeanBackward1>)\n",
      "tensor(2.7645, device='cuda:0', grad_fn=<MeanBackward1>)\n",
      "tensor(2.7642, device='cuda:0', grad_fn=<MeanBackward1>)\n",
      "tensor(2.7639, device='cuda:0', grad_fn=<MeanBackward1>)\n",
      "tensor(2.7636, device='cuda:0', grad_fn=<MeanBackward1>)\n",
      "tensor(2.7634, device='cuda:0', grad_fn=<MeanBackward1>)\n",
      "tensor(2.7630, device='cuda:0', grad_fn=<MeanBackward1>)\n",
      "tensor(2.7627, device='cuda:0', grad_fn=<MeanBackward1>)\n",
      "tensor(2.7624, device='cuda:0', grad_fn=<MeanBackward1>)\n",
      "tensor(2.7620, device='cuda:0', grad_fn=<MeanBackward1>)\n",
      "tensor(2.7620, device='cuda:0', grad_fn=<MeanBackward1>)\n",
      "tensor(2.7623, device='cuda:0', grad_fn=<MeanBackward1>)\n",
      "tensor(2.7629, device='cuda:0', grad_fn=<MeanBackward1>)\n",
      "tensor(2.7633, device='cuda:0', grad_fn=<MeanBackward1>)\n",
      "tensor(2.7635, device='cuda:0', grad_fn=<MeanBackward1>)\n",
      "tensor(2.7637, device='cuda:0', grad_fn=<MeanBackward1>)\n",
      "tensor(2.7639, device='cuda:0', grad_fn=<MeanBackward1>)\n",
      "tensor(2.7639, device='cuda:0', grad_fn=<MeanBackward1>)\n",
      "tensor(2.7640, device='cuda:0', grad_fn=<MeanBackward1>)\n",
      "tensor(2.7639, device='cuda:0', grad_fn=<MeanBackward1>)\n",
      "tensor(2.7639, device='cuda:0', grad_fn=<MeanBackward1>)\n",
      "tensor(2.7638, device='cuda:0', grad_fn=<MeanBackward1>)\n",
      "tensor(2.7636, device='cuda:0', grad_fn=<MeanBackward1>)\n",
      "tensor(2.7636, device='cuda:0', grad_fn=<MeanBackward1>)\n",
      "tensor(2.7635, device='cuda:0', grad_fn=<MeanBackward1>)\n",
      "tensor(2.7634, device='cuda:0', grad_fn=<MeanBackward1>)\n",
      "tensor(2.7634, device='cuda:0', grad_fn=<MeanBackward1>)\n",
      "tensor(2.7635, device='cuda:0', grad_fn=<MeanBackward1>)\n",
      "tensor(2.7639, device='cuda:0', grad_fn=<MeanBackward1>)\n",
      "tensor(2.7643, device='cuda:0', grad_fn=<MeanBackward1>)\n",
      "tensor(2.7646, device='cuda:0', grad_fn=<MeanBackward1>)\n",
      "tensor(2.7648, device='cuda:0', grad_fn=<MeanBackward1>)\n",
      "tensor(2.7650, device='cuda:0', grad_fn=<MeanBackward1>)\n",
      "tensor(2.7651, device='cuda:0', grad_fn=<MeanBackward1>)\n",
      "tensor(2.7651, device='cuda:0', grad_fn=<MeanBackward1>)\n",
      "tensor(2.7652, device='cuda:0', grad_fn=<MeanBackward1>)\n",
      "tensor(2.7653, device='cuda:0', grad_fn=<MeanBackward1>)\n",
      "tensor(2.7653, device='cuda:0', grad_fn=<MeanBackward1>)\n",
      "tensor(2.7652, device='cuda:0', grad_fn=<MeanBackward1>)\n",
      "tensor(2.7651, device='cuda:0', grad_fn=<MeanBackward1>)\n",
      "tensor(2.7650, device='cuda:0', grad_fn=<MeanBackward1>)\n",
      "tensor(2.7650, device='cuda:0', grad_fn=<MeanBackward1>)\n",
      "tensor(2.7650, device='cuda:0', grad_fn=<MeanBackward1>)\n",
      "tensor(2.7650, device='cuda:0', grad_fn=<MeanBackward1>)\n",
      "tensor(2.7651, device='cuda:0', grad_fn=<MeanBackward1>)\n",
      "tensor(2.7651, device='cuda:0', grad_fn=<MeanBackward1>)\n",
      "tensor(2.7652, device='cuda:0', grad_fn=<MeanBackward1>)\n",
      "tensor(2.7653, device='cuda:0', grad_fn=<MeanBackward1>)\n",
      "tensor(2.7655, device='cuda:0', grad_fn=<MeanBackward1>)\n",
      "tensor(2.7657, device='cuda:0', grad_fn=<MeanBackward1>)\n",
      "tensor(2.7659, device='cuda:0', grad_fn=<MeanBackward1>)\n",
      "tensor(2.7661, device='cuda:0', grad_fn=<MeanBackward1>)\n",
      "tensor(2.7662, device='cuda:0', grad_fn=<MeanBackward1>)\n",
      "tensor(2.7661, device='cuda:0', grad_fn=<MeanBackward1>)\n",
      "tensor(2.7659, device='cuda:0', grad_fn=<MeanBackward1>)\n",
      "tensor(2.7656, device='cuda:0', grad_fn=<MeanBackward1>)\n",
      "tensor(2.7652, device='cuda:0', grad_fn=<MeanBackward1>)\n",
      "tensor(2.7648, device='cuda:0', grad_fn=<MeanBackward1>)\n",
      "tensor(2.7645, device='cuda:0', grad_fn=<MeanBackward1>)\n",
      "tensor(2.7641, device='cuda:0', grad_fn=<MeanBackward1>)\n",
      "tensor(2.7638, device='cuda:0', grad_fn=<MeanBackward1>)\n",
      "tensor(2.7634, device='cuda:0', grad_fn=<MeanBackward1>)\n",
      "tensor(2.7630, device='cuda:0', grad_fn=<MeanBackward1>)\n",
      "tensor(2.7626, device='cuda:0', grad_fn=<MeanBackward1>)\n",
      "tensor(2.7627, device='cuda:0', grad_fn=<MeanBackward1>)\n",
      "tensor(2.7628, device='cuda:0', grad_fn=<MeanBackward1>)\n",
      "tensor(2.7630, device='cuda:0', grad_fn=<MeanBackward1>)\n",
      "tensor(2.7631, device='cuda:0', grad_fn=<MeanBackward1>)\n",
      "tensor(2.7633, device='cuda:0', grad_fn=<MeanBackward1>)\n",
      "tensor(2.7634, device='cuda:0', grad_fn=<MeanBackward1>)\n",
      "tensor(2.7636, device='cuda:0', grad_fn=<MeanBackward1>)\n"
     ]
    },
    {
     "name": "stdout",
     "output_type": "stream",
     "text": [
      "tensor(2.7638, device='cuda:0', grad_fn=<MeanBackward1>)\n",
      "tensor(2.7641, device='cuda:0', grad_fn=<MeanBackward1>)\n",
      "tensor(2.7646, device='cuda:0', grad_fn=<MeanBackward1>)\n",
      "tensor(2.7650, device='cuda:0', grad_fn=<MeanBackward1>)\n",
      "tensor(2.7654, device='cuda:0', grad_fn=<MeanBackward1>)\n",
      "tensor(2.7656, device='cuda:0', grad_fn=<MeanBackward1>)\n",
      "tensor(2.7657, device='cuda:0', grad_fn=<MeanBackward1>)\n",
      "tensor(2.7657, device='cuda:0', grad_fn=<MeanBackward1>)\n",
      "tensor(2.7660, device='cuda:0', grad_fn=<MeanBackward1>)\n",
      "tensor(2.7665, device='cuda:0', grad_fn=<MeanBackward1>)\n",
      "tensor(2.7672, device='cuda:0', grad_fn=<MeanBackward1>)\n",
      "tensor(2.7678, device='cuda:0', grad_fn=<MeanBackward1>)\n",
      "tensor(2.7679, device='cuda:0', grad_fn=<MeanBackward1>)\n",
      "tensor(2.7677, device='cuda:0', grad_fn=<MeanBackward1>)\n",
      "tensor(2.7674, device='cuda:0', grad_fn=<MeanBackward1>)\n",
      "tensor(2.7674, device='cuda:0', grad_fn=<MeanBackward1>)\n",
      "tensor(2.7677, device='cuda:0', grad_fn=<MeanBackward1>)\n",
      "tensor(2.7683, device='cuda:0', grad_fn=<MeanBackward1>)\n",
      "tensor(2.7686, device='cuda:0', grad_fn=<MeanBackward1>)\n",
      "tensor(2.7685, device='cuda:0', grad_fn=<MeanBackward1>)\n",
      "tensor(2.7687, device='cuda:0', grad_fn=<MeanBackward1>)\n",
      "tensor(2.7692, device='cuda:0', grad_fn=<MeanBackward1>)\n",
      "tensor(2.7696, device='cuda:0', grad_fn=<MeanBackward1>)\n",
      "tensor(2.7696, device='cuda:0', grad_fn=<MeanBackward1>)\n",
      "tensor(2.7696, device='cuda:0', grad_fn=<MeanBackward1>)\n",
      "tensor(2.7699, device='cuda:0', grad_fn=<MeanBackward1>)\n",
      "tensor(2.7705, device='cuda:0', grad_fn=<MeanBackward1>)\n",
      "tensor(2.7709, device='cuda:0', grad_fn=<MeanBackward1>)\n",
      "tensor(2.7710, device='cuda:0', grad_fn=<MeanBackward1>)\n",
      "tensor(2.7713, device='cuda:0', grad_fn=<MeanBackward1>)\n",
      "tensor(2.7720, device='cuda:0', grad_fn=<MeanBackward1>)\n",
      "tensor(2.7725, device='cuda:0', grad_fn=<MeanBackward1>)\n",
      "tensor(2.7729, device='cuda:0', grad_fn=<MeanBackward1>)\n",
      "tensor(2.7734, device='cuda:0', grad_fn=<MeanBackward1>)\n",
      "tensor(2.7734, device='cuda:0', grad_fn=<MeanBackward1>)\n",
      "tensor(2.7738, device='cuda:0', grad_fn=<MeanBackward1>)\n",
      "tensor(2.7743, device='cuda:0', grad_fn=<MeanBackward1>)\n",
      "tensor(2.7743, device='cuda:0', grad_fn=<MeanBackward1>)\n",
      "tensor(2.7746, device='cuda:0', grad_fn=<MeanBackward1>)\n",
      "tensor(2.7750, device='cuda:0', grad_fn=<MeanBackward1>)\n",
      "tensor(2.7751, device='cuda:0', grad_fn=<MeanBackward1>)\n",
      "tensor(2.7748, device='cuda:0', grad_fn=<MeanBackward1>)\n",
      "tensor(2.7749, device='cuda:0', grad_fn=<MeanBackward1>)\n",
      "tensor(2.7754, device='cuda:0', grad_fn=<MeanBackward1>)\n",
      "tensor(2.7762, device='cuda:0', grad_fn=<MeanBackward1>)\n",
      "tensor(2.7766, device='cuda:0', grad_fn=<MeanBackward1>)\n",
      "tensor(2.7765, device='cuda:0', grad_fn=<MeanBackward1>)\n",
      "tensor(2.7761, device='cuda:0', grad_fn=<MeanBackward1>)\n",
      "tensor(2.7761, device='cuda:0', grad_fn=<MeanBackward1>)\n",
      "tensor(2.7765, device='cuda:0', grad_fn=<MeanBackward1>)\n",
      "tensor(2.7772, device='cuda:0', grad_fn=<MeanBackward1>)\n",
      "tensor(2.7775, device='cuda:0', grad_fn=<MeanBackward1>)\n",
      "tensor(2.7775, device='cuda:0', grad_fn=<MeanBackward1>)\n",
      "tensor(2.7772, device='cuda:0', grad_fn=<MeanBackward1>)\n",
      "tensor(2.7766, device='cuda:0', grad_fn=<MeanBackward1>)\n",
      "tensor(2.7764, device='cuda:0', grad_fn=<MeanBackward1>)\n",
      "tensor(2.7766, device='cuda:0', grad_fn=<MeanBackward1>)\n",
      "tensor(2.7772, device='cuda:0', grad_fn=<MeanBackward1>)\n",
      "tensor(2.7774, device='cuda:0', grad_fn=<MeanBackward1>)\n",
      "tensor(2.7773, device='cuda:0', grad_fn=<MeanBackward1>)\n",
      "tensor(2.7769, device='cuda:0', grad_fn=<MeanBackward1>)\n",
      "tensor(2.7768, device='cuda:0', grad_fn=<MeanBackward1>)\n",
      "tensor(2.7772, device='cuda:0', grad_fn=<MeanBackward1>)\n",
      "tensor(2.7779, device='cuda:0', grad_fn=<MeanBackward1>)\n",
      "tensor(2.7789, device='cuda:0', grad_fn=<MeanBackward1>)\n",
      "tensor(2.7794, device='cuda:0', grad_fn=<MeanBackward1>)\n",
      "tensor(2.7796, device='cuda:0', grad_fn=<MeanBackward1>)\n",
      "tensor(2.7795, device='cuda:0', grad_fn=<MeanBackward1>)\n"
     ]
    }
   ],
   "source": [
    "for j in range(500):\n",
    "    for batch in iter(train_dl):\n",
    "\n",
    "        opti.zero_grad()\n",
    "        inp=batch[0].float().cuda()#.unsqueeze(2)\n",
    "        out=batch[1].float().cuda()#.unsqueeze(2).float()\n",
    "        shifts=batch[2].numpy()\n",
    "        #it returns the whole sequence atm \n",
    "        pred=hw(inp,12,shifts)[:,-12:]\n",
    "        loss=torch.mean(torch.abs(pred-out))\n",
    "        loss.backward()\n",
    "        opti.step()\n",
    "        if loss < 0.5:\n",
    "            break\n",
    "            \n",
    "    for batch in iter(test_dl):\n",
    "        opti.zero_grad()\n",
    "        inp=batch[0].float().cuda()#.unsqueeze(2)\n",
    "        out=batch[1].float().cuda()#.unsqueeze(2).float()\n",
    "        shifts=batch[2].numpy()\n",
    "        pred=hw(inp,12,shifts)[:,-12:]\n",
    "        loss=torch.mean(torch.abs(pred-out))\n",
    "        loss_list.append(loss.detach().cpu().numpy())\n",
    "        print(loss)\n",
    "    "
   ]
  },
  {
   "cell_type": "code",
   "execution_count": 398,
   "metadata": {
    "collapsed": true
   },
   "outputs": [],
   "source": [
    "hw=hw.cpu()"
   ]
  },
  {
   "cell_type": "code",
   "execution_count": 399,
   "metadata": {},
   "outputs": [
    {
     "data": {
      "text/plain": [
       "[<matplotlib.lines.Line2D at 0x7fd4700fa320>]"
      ]
     },
     "execution_count": 399,
     "metadata": {},
     "output_type": "execute_result"
    },
    {
     "data": {
      "image/png": "[encoded data removed]",
      "text/plain": [
       "<Figure size 432x288 with 1 Axes>"
      ]
     },
     "metadata": {},
     "output_type": "display_data"
    }
   ],
   "source": [
    "plt.plot(loss_list)"
   ]
  },
  {
   "cell_type": "code",
   "execution_count": 400,
   "metadata": {
    "collapsed": true
   },
   "outputs": [],
   "source": [
    "batch =  next(iter(test_dl))"
   ]
  },
  {
   "cell_type": "code",
   "execution_count": 413,
   "metadata": {
    "collapsed": true
   },
   "outputs": [],
   "source": [
    "inp=batch[0].float()#.unsqueeze(2)\n",
    "out=batch[1].float()#.unsqueeze(2).float()\n",
    "shifts=batch[2].numpy()\n",
    "#it returns the whole sequence atm \n",
    "pred=hw(inp,48,shifts)#[:,-12:]\n",
    "#loss=torch.mean(torch.abs(pred-out))"
   ]
  },
  {
   "cell_type": "code",
   "execution_count": 414,
   "metadata": {
    "collapsed": true
   },
   "outputs": [],
   "source": [
    "pred=pred.detach().numpy()"
   ]
  },
  {
   "cell_type": "code",
   "execution_count": 415,
   "metadata": {
    "collapsed": true
   },
   "outputs": [],
   "source": [
    "out=out.detach().numpy()\n",
    "inp=inp.detach().numpy()"
   ]
  },
  {
   "cell_type": "code",
   "execution_count": 416,
   "metadata": {},
   "outputs": [
    {
     "data": {
      "text/plain": [
       "[<matplotlib.lines.Line2D at 0x7fd456e96a90>]"
      ]
     },
     "execution_count": 416,
     "metadata": {},
     "output_type": "execute_result"
    },
    {
     "data": {
      "image/png": "[encoded data removed]",
      "text/plain": [
       "<Figure size 432x288 with 1 Axes>"
      ]
     },
     "metadata": {},
     "output_type": "display_data"
    }
   ],
   "source": [
    "plt.plot(np.concatenate([inp[0,:],out[0,:]]),\"b\")\n",
    "plt.plot(pred[0,:],\"r\")\n"
   ]
  },
  {
   "cell_type": "code",
   "execution_count": 379,
   "metadata": {},
   "outputs": [
    {
     "data": {
      "text/plain": [
       "[<matplotlib.lines.Line2D at 0x7fd470204e48>]"
      ]
     },
     "execution_count": 379,
     "metadata": {},
     "output_type": "execute_result"
    },
    {
     "data": {
      "image/png": "[encoded data removed]",
      "text/plain": [
       "<Figure size 432x288 with 1 Axes>"
      ]
     },
     "metadata": {},
     "output_type": "display_data"
    }
   ],
   "source": [
    "plt.plot(pred[0,:],\"r\")\n"
   ]
  },
  {
   "cell_type": "code",
   "execution_count": 380,
   "metadata": {},
   "outputs": [
    {
     "data": {
      "text/plain": [
       "[<matplotlib.lines.Line2D at 0x7fd4701dccf8>]"
      ]
     },
     "execution_count": 380,
     "metadata": {},
     "output_type": "execute_result"
    },
    {
     "data": {
      "image/png": "[encoded data removed]",
      "text/plain": [
       "<Figure size 432x288 with 1 Axes>"
      ]
     },
     "metadata": {},
     "output_type": "display_data"
    }
   ],
   "source": [
    "plt.plot(np.concatenate([inp[0,:],out[0,:]]),\"b\")"
   ]
  },
  {
   "cell_type": "code",
   "execution_count": 381,
   "metadata": {},
   "outputs": [
    {
     "ename": "AttributeError",
     "evalue": "'numpy.ndarray' object has no attribute 'numpy'",
     "output_type": "error",
     "traceback": [
      "\u001b[0;31m---------------------------------------------------------------------------\u001b[0m",
      "\u001b[0;31mAttributeError\u001b[0m                            Traceback (most recent call last)",
      "\u001b[0;32m<ipython-input-381-e8633002378d>\u001b[0m in \u001b[0;36m<module>\u001b[0;34m()\u001b[0m\n\u001b[0;32m----> 1\u001b[0;31m \u001b[0mplt\u001b[0m\u001b[0;34m.\u001b[0m\u001b[0mplot\u001b[0m\u001b[0;34m(\u001b[0m\u001b[0mnp\u001b[0m\u001b[0;34m.\u001b[0m\u001b[0msqueeze\u001b[0m\u001b[0;34m(\u001b[0m\u001b[0minp\u001b[0m\u001b[0;34m.\u001b[0m\u001b[0mnumpy\u001b[0m\u001b[0;34m(\u001b[0m\u001b[0;34m)\u001b[0m\u001b[0;34m)\u001b[0m\u001b[0;34m,\u001b[0m \u001b[0;34m'g'\u001b[0m\u001b[0;34m)\u001b[0m \u001b[0;31m# plotting t, c separately\u001b[0m\u001b[0;34m\u001b[0m\u001b[0m\n\u001b[0m\u001b[1;32m      2\u001b[0m \u001b[0mplt\u001b[0m\u001b[0;34m.\u001b[0m\u001b[0mplot\u001b[0m\u001b[0;34m(\u001b[0m\u001b[0mnp\u001b[0m\u001b[0;34m.\u001b[0m\u001b[0msqueeze\u001b[0m\u001b[0;34m(\u001b[0m\u001b[0mpred\u001b[0m\u001b[0;34m)\u001b[0m\u001b[0;34m,\u001b[0m \u001b[0;34m'b'\u001b[0m\u001b[0;34m)\u001b[0m \u001b[0;31m# plotting t, c separately\u001b[0m\u001b[0;34m\u001b[0m\u001b[0m\n\u001b[1;32m      3\u001b[0m \u001b[0mplt\u001b[0m\u001b[0;34m.\u001b[0m\u001b[0mshow\u001b[0m\u001b[0;34m(\u001b[0m\u001b[0;34m)\u001b[0m\u001b[0;34m\u001b[0m\u001b[0m\n",
      "\u001b[0;31mAttributeError\u001b[0m: 'numpy.ndarray' object has no attribute 'numpy'"
     ]
    }
   ],
   "source": [
    "plt.plot(np.squeeze(inp.numpy()), 'g') # plotting t, c separately \n",
    "plt.plot(np.squeeze(pred), 'b') # plotting t, c separately \n",
    "plt.show()"
   ]
  },
  {
   "cell_type": "code",
   "execution_count": 299,
   "metadata": {},
   "outputs": [
    {
     "data": {
      "image/png": "[encoded data removed]",
      "text/plain": [
       "<Figure size 432x288 with 1 Axes>"
      ]
     },
     "metadata": {},
     "output_type": "display_data"
    }
   ],
   "source": [
    "plt.plot(np.concatenate([np.squeeze(inp),np.squeeze(out)]), 'g') # plotting t, c separately \n",
    "plt.show()"
   ]
  },
  {
   "cell_type": "code",
   "execution_count": 300,
   "metadata": {},
   "outputs": [
    {
     "data": {
      "text/plain": [
       "[<matplotlib.lines.Line2D at 0x7fd470861630>]"
      ]
     },
     "execution_count": 300,
     "metadata": {},
     "output_type": "execute_result"
    },
    {
     "data": {
      "image/png": "[encoded data removed]",
      "text/plain": [
       "<Figure size 432x288 with 1 Axes>"
      ]
     },
     "metadata": {},
     "output_type": "display_data"
    }
   ],
   "source": [
    "plt.plot(np.squeeze(pred), 'b') # plotting t, c separately \n"
   ]
  },
  {
   "cell_type": "code",
   "execution_count": 235,
   "metadata": {},
   "outputs": [
    {
     "data": {
      "text/plain": [
       "[<matplotlib.lines.Line2D at 0x7fd47120b8d0>]"
      ]
     },
     "execution_count": 235,
     "metadata": {},
     "output_type": "execute_result"
    },
    {
     "data": {
      "image/png": "[encoded data removed]",
      "text/plain": [
       "<Figure size 432x288 with 1 Axes>"
      ]
     },
     "metadata": {},
     "output_type": "display_data"
    }
   ],
   "source": [
    "plt.plot(series[0:12])"
   ]
  },
  {
   "cell_type": "code",
   "execution_count": 236,
   "metadata": {},
   "outputs": [
    {
     "data": {
      "text/plain": [
       "[<matplotlib.lines.Line2D at 0x7fd4712777f0>]"
      ]
     },
     "execution_count": 236,
     "metadata": {},
     "output_type": "execute_result"
    },
    {
     "data": {
      "image/png": "[encoded data removed]",
      "text/plain": [
       "<Figure size 432x288 with 1 Axes>"
      ]
     },
     "metadata": {},
     "output_type": "display_data"
    }
   ],
   "source": [
    "plt.plot(series[12:24])"
   ]
  },
  {
   "cell_type": "code",
   "execution_count": 237,
   "metadata": {},
   "outputs": [
    {
     "data": {
      "text/plain": [
       "12"
      ]
     },
     "execution_count": 237,
     "metadata": {},
     "output_type": "execute_result"
    }
   ],
   "source": [
    "len(series[12:24])"
   ]
  },
  {
   "cell_type": "code",
   "execution_count": 238,
   "metadata": {},
   "outputs": [
    {
     "data": {
      "text/plain": [
       "(1, 12)"
      ]
     },
     "execution_count": 238,
     "metadata": {},
     "output_type": "execute_result"
    }
   ],
   "source": [
    "out.shape"
   ]
  },
  {
   "cell_type": "code",
   "execution_count": 239,
   "metadata": {},
   "outputs": [
    {
     "data": {
      "text/plain": [
       "(1, 56)"
      ]
     },
     "execution_count": 239,
     "metadata": {},
     "output_type": "execute_result"
    }
   ],
   "source": [
    "pred.shape"
   ]
  },
  {
   "cell_type": "code",
   "execution_count": 240,
   "metadata": {
    "collapsed": true
   },
   "outputs": [],
   "source": [
    "params=[]\n",
    "for param in hw.parameters():\n",
    "    params.append(param)"
   ]
  },
  {
   "cell_type": "code",
   "execution_count": 241,
   "metadata": {},
   "outputs": [
    {
     "data": {
      "text/plain": [
       "[Parameter containing:\n",
       " tensor(-1.2649, requires_grad=True), Parameter containing:\n",
       " tensor(-2.8778, requires_grad=True), Parameter containing:\n",
       " tensor(1.0469, requires_grad=True), Parameter containing:\n",
       " tensor([-0.5125, -0.2710,  3.0907,  0.9330, -1.3761,  1.9721, -0.7254, -1.5417,\n",
       "         -0.0654,  0.0542, -0.3144,  0.7884], dtype=torch.float64,\n",
       "        requires_grad=True), Parameter containing:\n",
       " tensor(1.9118, requires_grad=True)]"
      ]
     },
     "execution_count": 241,
     "metadata": {},
     "output_type": "execute_result"
    }
   ],
   "source": [
    "params"
   ]
  },
  {
   "cell_type": "code",
   "execution_count": 242,
   "metadata": {},
   "outputs": [
    {
     "data": {
      "text/plain": [
       "12"
      ]
     },
     "execution_count": 242,
     "metadata": {},
     "output_type": "execute_result"
    }
   ],
   "source": [
    "len(params[3].detach().numpy())"
   ]
  },
  {
   "cell_type": "code",
   "execution_count": 243,
   "metadata": {},
   "outputs": [
    {
     "data": {
      "text/plain": [
       "[<matplotlib.lines.Line2D at 0x7fd4713f4710>]"
      ]
     },
     "execution_count": 243,
     "metadata": {},
     "output_type": "execute_result"
    },
    {
     "data": {
      "image/png": "[encoded data removed]",
      "text/plain": [
       "<Figure size 432x288 with 1 Axes>"
      ]
     },
     "metadata": {},
     "output_type": "display_data"
    }
   ],
   "source": [
    "plt.plot(params[3].detach().numpy())"
   ]
  },
  {
   "cell_type": "code",
   "execution_count": 261,
   "metadata": {
    "collapsed": true
   },
   "outputs": [],
   "source": [
    "inp=batch[0].float()#.unsqueeze(2)\n",
    "out=batch[1].float()#.unsqueeze(2).float()\n",
    "shifts=batch[2].numpy()\n",
    "#it returns the whole sequence atm \n",
    "pred=hw(inp,48,shifts,True)#[:,-12:]\n",
    "#loss=torch.mean(torch.abs(pred-out))"
   ]
  },
  {
   "cell_type": "code",
   "execution_count": 262,
   "metadata": {
    "collapsed": true
   },
   "outputs": [],
   "source": [
    "preds=pred[0][:,-48:]\n",
    "level=pred[1]\n",
    "trend=pred[2]\n",
    "season=pred[3]"
   ]
  },
  {
   "cell_type": "code",
   "execution_count": 263,
   "metadata": {},
   "outputs": [
    {
     "data": {
      "text/plain": [
       "[<matplotlib.lines.Line2D at 0x7fd470b5cdd8>]"
      ]
     },
     "execution_count": 263,
     "metadata": {},
     "output_type": "execute_result"
    },
    {
     "data": {
      "image/png": "[encoded data removed]",
      "text/plain": [
       "<Figure size 432x288 with 1 Axes>"
      ]
     },
     "metadata": {},
     "output_type": "display_data"
    }
   ],
   "source": [
    "plt.plot(preds.detach().squeeze().numpy())"
   ]
  },
  {
   "cell_type": "code",
   "execution_count": 251,
   "metadata": {},
   "outputs": [
    {
     "data": {
      "text/plain": [
       "[<matplotlib.lines.Line2D at 0x7fd478e7e6a0>]"
      ]
     },
     "execution_count": 251,
     "metadata": {},
     "output_type": "execute_result"
    },
    {
     "data": {
      "image/png": "[encoded data removed]",
      "text/plain": [
       "<Figure size 432x288 with 1 Axes>"
      ]
     },
     "metadata": {},
     "output_type": "display_data"
    }
   ],
   "source": [
    "plt.plot(torch.stack(season).detach().squeeze().numpy())"
   ]
  },
  {
   "cell_type": "code",
   "execution_count": 253,
   "metadata": {},
   "outputs": [
    {
     "data": {
      "text/plain": [
       "tensor([29.7583], grad_fn=<AddBackward0>)"
      ]
     },
     "execution_count": 253,
     "metadata": {},
     "output_type": "execute_result"
    }
   ],
   "source": [
    "level"
   ]
  },
  {
   "cell_type": "code",
   "execution_count": 252,
   "metadata": {},
   "outputs": [
    {
     "data": {
      "text/plain": [
       "tensor([0.0519], grad_fn=<AddBackward0>)"
      ]
     },
     "execution_count": 252,
     "metadata": {},
     "output_type": "execute_result"
    }
   ],
   "source": [
    "trend"
   ]
  },
  {
   "cell_type": "code",
   "execution_count": null,
   "metadata": {
    "collapsed": true
   },
   "outputs": [],
   "source": [
    "plt.plot(params[3].detach().numpy())"
   ]
  },
  {
   "cell_type": "code",
   "execution_count": null,
   "metadata": {
    "collapsed": true
   },
   "outputs": [],
   "source": [
    "plt.plot(params[3].detach().numpy())"
   ]
  },
  {
   "cell_type": "code",
   "execution_count": null,
   "metadata": {
    "collapsed": true
   },
   "outputs": [],
   "source": [
    "plt.plot(params[3].detach().numpy())"
   ]
  },
  {
   "cell_type": "code",
   "execution_count": 329,
   "metadata": {},
   "outputs": [
    {
     "data": {
      "text/plain": [
       "[<matplotlib.lines.Line2D at 0x7f08172960b8>]"
      ]
     },
     "execution_count": 329,
     "metadata": {},
     "output_type": "execute_result"
    },
    {
     "data": {
      "image/png": "[encoded data removed]",
      "text/plain": [
       "<Figure size 432x288 with 1 Axes>"
      ]
     },
     "metadata": {},
     "output_type": "display_data"
    }
   ],
   "source": [
    "#THe init season it learns with no shifi \n",
    "plt.plot(params[3].detach().numpy())"
   ]
  },
  {
   "cell_type": "code",
   "execution_count": null,
   "metadata": {
    "collapsed": true
   },
   "outputs": [],
   "source": []
  }
 ],
 "metadata": {
  "kernelspec": {
   "display_name": "Python (pytorchenv)",
   "language": "python",
   "name": "pytorch"
  },
  "language_info": {
   "codemirror_mode": {
    "name": "ipython",
    "version": 3
   },
   "file_extension": ".py",
   "mimetype": "text/x-python",
   "name": "python",
   "nbconvert_exporter": "python",
   "pygments_lexer": "ipython3",
   "version": "3.6.3"
  }
 },
 "nbformat": 4,
 "nbformat_minor": 2
}
